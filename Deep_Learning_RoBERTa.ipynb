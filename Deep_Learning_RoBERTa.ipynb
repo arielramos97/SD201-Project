{
  "nbformat": 4,
  "nbformat_minor": 0,
  "metadata": {
    "colab": {
      "provenance": [],
      "machine_shape": "hm"
    },
    "kernelspec": {
      "name": "python3",
      "display_name": "Python 3"
    },
    "language_info": {
      "name": "python"
    },
    "accelerator": "GPU",
    "widgets": {
      "application/vnd.jupyter.widget-state+json": {
        "82238d01f6c448e4bb587960f39f1723": {
          "model_module": "@jupyter-widgets/controls",
          "model_name": "HBoxModel",
          "model_module_version": "1.5.0",
          "state": {
            "_dom_classes": [],
            "_model_module": "@jupyter-widgets/controls",
            "_model_module_version": "1.5.0",
            "_model_name": "HBoxModel",
            "_view_count": null,
            "_view_module": "@jupyter-widgets/controls",
            "_view_module_version": "1.5.0",
            "_view_name": "HBoxView",
            "box_style": "",
            "children": [
              "IPY_MODEL_33566efc1cf04610b3ac10d53c9b7dd3",
              "IPY_MODEL_fd7ea3ed4a684bc99b276349169e8c07",
              "IPY_MODEL_eb4aec36fcfd4d399ff3b2ef0ac527d2"
            ],
            "layout": "IPY_MODEL_7fe590c7b33a4db0976c62dc8d28864c"
          }
        },
        "33566efc1cf04610b3ac10d53c9b7dd3": {
          "model_module": "@jupyter-widgets/controls",
          "model_name": "HTMLModel",
          "model_module_version": "1.5.0",
          "state": {
            "_dom_classes": [],
            "_model_module": "@jupyter-widgets/controls",
            "_model_module_version": "1.5.0",
            "_model_name": "HTMLModel",
            "_view_count": null,
            "_view_module": "@jupyter-widgets/controls",
            "_view_module_version": "1.5.0",
            "_view_name": "HTMLView",
            "description": "",
            "description_tooltip": null,
            "layout": "IPY_MODEL_6ea76dbc85f64663b9de5186ee9905ae",
            "placeholder": "​",
            "style": "IPY_MODEL_631695e030944160bbfebaaa192b41e8",
            "value": "100%"
          }
        },
        "fd7ea3ed4a684bc99b276349169e8c07": {
          "model_module": "@jupyter-widgets/controls",
          "model_name": "FloatProgressModel",
          "model_module_version": "1.5.0",
          "state": {
            "_dom_classes": [],
            "_model_module": "@jupyter-widgets/controls",
            "_model_module_version": "1.5.0",
            "_model_name": "FloatProgressModel",
            "_view_count": null,
            "_view_module": "@jupyter-widgets/controls",
            "_view_module_version": "1.5.0",
            "_view_name": "ProgressView",
            "bar_style": "success",
            "description": "",
            "description_tooltip": null,
            "layout": "IPY_MODEL_cd8febfe697b430e9970bbee229a46b1",
            "max": 5,
            "min": 0,
            "orientation": "horizontal",
            "style": "IPY_MODEL_12c4754853294ae1a4b66856be640917",
            "value": 5
          }
        },
        "eb4aec36fcfd4d399ff3b2ef0ac527d2": {
          "model_module": "@jupyter-widgets/controls",
          "model_name": "HTMLModel",
          "model_module_version": "1.5.0",
          "state": {
            "_dom_classes": [],
            "_model_module": "@jupyter-widgets/controls",
            "_model_module_version": "1.5.0",
            "_model_name": "HTMLModel",
            "_view_count": null,
            "_view_module": "@jupyter-widgets/controls",
            "_view_module_version": "1.5.0",
            "_view_name": "HTMLView",
            "description": "",
            "description_tooltip": null,
            "layout": "IPY_MODEL_a81a5ec252f747bcbcdb4e5d3fe9f74c",
            "placeholder": "​",
            "style": "IPY_MODEL_2537956ee5824bd98b0408f8a51a9c8b",
            "value": " 5/5 [1:12:18&lt;00:00, 867.22s/it]"
          }
        },
        "7fe590c7b33a4db0976c62dc8d28864c": {
          "model_module": "@jupyter-widgets/base",
          "model_name": "LayoutModel",
          "model_module_version": "1.2.0",
          "state": {
            "_model_module": "@jupyter-widgets/base",
            "_model_module_version": "1.2.0",
            "_model_name": "LayoutModel",
            "_view_count": null,
            "_view_module": "@jupyter-widgets/base",
            "_view_module_version": "1.2.0",
            "_view_name": "LayoutView",
            "align_content": null,
            "align_items": null,
            "align_self": null,
            "border": null,
            "bottom": null,
            "display": null,
            "flex": null,
            "flex_flow": null,
            "grid_area": null,
            "grid_auto_columns": null,
            "grid_auto_flow": null,
            "grid_auto_rows": null,
            "grid_column": null,
            "grid_gap": null,
            "grid_row": null,
            "grid_template_areas": null,
            "grid_template_columns": null,
            "grid_template_rows": null,
            "height": null,
            "justify_content": null,
            "justify_items": null,
            "left": null,
            "margin": null,
            "max_height": null,
            "max_width": null,
            "min_height": null,
            "min_width": null,
            "object_fit": null,
            "object_position": null,
            "order": null,
            "overflow": null,
            "overflow_x": null,
            "overflow_y": null,
            "padding": null,
            "right": null,
            "top": null,
            "visibility": null,
            "width": null
          }
        },
        "6ea76dbc85f64663b9de5186ee9905ae": {
          "model_module": "@jupyter-widgets/base",
          "model_name": "LayoutModel",
          "model_module_version": "1.2.0",
          "state": {
            "_model_module": "@jupyter-widgets/base",
            "_model_module_version": "1.2.0",
            "_model_name": "LayoutModel",
            "_view_count": null,
            "_view_module": "@jupyter-widgets/base",
            "_view_module_version": "1.2.0",
            "_view_name": "LayoutView",
            "align_content": null,
            "align_items": null,
            "align_self": null,
            "border": null,
            "bottom": null,
            "display": null,
            "flex": null,
            "flex_flow": null,
            "grid_area": null,
            "grid_auto_columns": null,
            "grid_auto_flow": null,
            "grid_auto_rows": null,
            "grid_column": null,
            "grid_gap": null,
            "grid_row": null,
            "grid_template_areas": null,
            "grid_template_columns": null,
            "grid_template_rows": null,
            "height": null,
            "justify_content": null,
            "justify_items": null,
            "left": null,
            "margin": null,
            "max_height": null,
            "max_width": null,
            "min_height": null,
            "min_width": null,
            "object_fit": null,
            "object_position": null,
            "order": null,
            "overflow": null,
            "overflow_x": null,
            "overflow_y": null,
            "padding": null,
            "right": null,
            "top": null,
            "visibility": null,
            "width": null
          }
        },
        "631695e030944160bbfebaaa192b41e8": {
          "model_module": "@jupyter-widgets/controls",
          "model_name": "DescriptionStyleModel",
          "model_module_version": "1.5.0",
          "state": {
            "_model_module": "@jupyter-widgets/controls",
            "_model_module_version": "1.5.0",
            "_model_name": "DescriptionStyleModel",
            "_view_count": null,
            "_view_module": "@jupyter-widgets/base",
            "_view_module_version": "1.2.0",
            "_view_name": "StyleView",
            "description_width": ""
          }
        },
        "cd8febfe697b430e9970bbee229a46b1": {
          "model_module": "@jupyter-widgets/base",
          "model_name": "LayoutModel",
          "model_module_version": "1.2.0",
          "state": {
            "_model_module": "@jupyter-widgets/base",
            "_model_module_version": "1.2.0",
            "_model_name": "LayoutModel",
            "_view_count": null,
            "_view_module": "@jupyter-widgets/base",
            "_view_module_version": "1.2.0",
            "_view_name": "LayoutView",
            "align_content": null,
            "align_items": null,
            "align_self": null,
            "border": null,
            "bottom": null,
            "display": null,
            "flex": null,
            "flex_flow": null,
            "grid_area": null,
            "grid_auto_columns": null,
            "grid_auto_flow": null,
            "grid_auto_rows": null,
            "grid_column": null,
            "grid_gap": null,
            "grid_row": null,
            "grid_template_areas": null,
            "grid_template_columns": null,
            "grid_template_rows": null,
            "height": null,
            "justify_content": null,
            "justify_items": null,
            "left": null,
            "margin": null,
            "max_height": null,
            "max_width": null,
            "min_height": null,
            "min_width": null,
            "object_fit": null,
            "object_position": null,
            "order": null,
            "overflow": null,
            "overflow_x": null,
            "overflow_y": null,
            "padding": null,
            "right": null,
            "top": null,
            "visibility": null,
            "width": null
          }
        },
        "12c4754853294ae1a4b66856be640917": {
          "model_module": "@jupyter-widgets/controls",
          "model_name": "ProgressStyleModel",
          "model_module_version": "1.5.0",
          "state": {
            "_model_module": "@jupyter-widgets/controls",
            "_model_module_version": "1.5.0",
            "_model_name": "ProgressStyleModel",
            "_view_count": null,
            "_view_module": "@jupyter-widgets/base",
            "_view_module_version": "1.2.0",
            "_view_name": "StyleView",
            "bar_color": null,
            "description_width": ""
          }
        },
        "a81a5ec252f747bcbcdb4e5d3fe9f74c": {
          "model_module": "@jupyter-widgets/base",
          "model_name": "LayoutModel",
          "model_module_version": "1.2.0",
          "state": {
            "_model_module": "@jupyter-widgets/base",
            "_model_module_version": "1.2.0",
            "_model_name": "LayoutModel",
            "_view_count": null,
            "_view_module": "@jupyter-widgets/base",
            "_view_module_version": "1.2.0",
            "_view_name": "LayoutView",
            "align_content": null,
            "align_items": null,
            "align_self": null,
            "border": null,
            "bottom": null,
            "display": null,
            "flex": null,
            "flex_flow": null,
            "grid_area": null,
            "grid_auto_columns": null,
            "grid_auto_flow": null,
            "grid_auto_rows": null,
            "grid_column": null,
            "grid_gap": null,
            "grid_row": null,
            "grid_template_areas": null,
            "grid_template_columns": null,
            "grid_template_rows": null,
            "height": null,
            "justify_content": null,
            "justify_items": null,
            "left": null,
            "margin": null,
            "max_height": null,
            "max_width": null,
            "min_height": null,
            "min_width": null,
            "object_fit": null,
            "object_position": null,
            "order": null,
            "overflow": null,
            "overflow_x": null,
            "overflow_y": null,
            "padding": null,
            "right": null,
            "top": null,
            "visibility": null,
            "width": null
          }
        },
        "2537956ee5824bd98b0408f8a51a9c8b": {
          "model_module": "@jupyter-widgets/controls",
          "model_name": "DescriptionStyleModel",
          "model_module_version": "1.5.0",
          "state": {
            "_model_module": "@jupyter-widgets/controls",
            "_model_module_version": "1.5.0",
            "_model_name": "DescriptionStyleModel",
            "_view_count": null,
            "_view_module": "@jupyter-widgets/base",
            "_view_module_version": "1.2.0",
            "_view_name": "StyleView",
            "description_width": ""
          }
        }
      }
    }
  },
  "cells": [
    {
      "cell_type": "markdown",
      "source": [
        "# **Mining of large datasets - Project**\n",
        "## Deep Learning approach using RoBERTa to classify the SST-5 dataset\n",
        "\n"
      ],
      "metadata": {
        "id": "ESYom5NrsWY9"
      }
    },
    {
      "cell_type": "code",
      "source": [
        "#Install required packages (if needed)\n",
        "! pip install transformers\n",
        "! pip install imbalanced-learn\n",
        "! pip install timebudget"
      ],
      "metadata": {
        "colab": {
          "base_uri": "https://localhost:8080/"
        },
        "id": "qY1VAxsrtj5e",
        "outputId": "29cb38f9-7837-4d03-ac81-9ab31a8d01eb"
      },
      "execution_count": 5,
      "outputs": [
        {
          "output_type": "stream",
          "name": "stdout",
          "text": [
            "Looking in indexes: https://pypi.org/simple, https://us-python.pkg.dev/colab-wheels/public/simple/\n",
            "Collecting transformers\n",
            "  Downloading transformers-4.25.1-py3-none-any.whl (5.8 MB)\n",
            "\u001b[K     |████████████████████████████████| 5.8 MB 30.7 MB/s \n",
            "\u001b[?25hRequirement already satisfied: numpy>=1.17 in /usr/local/lib/python3.8/dist-packages (from transformers) (1.21.6)\n",
            "Requirement already satisfied: pyyaml>=5.1 in /usr/local/lib/python3.8/dist-packages (from transformers) (6.0)\n",
            "Collecting tokenizers!=0.11.3,<0.14,>=0.11.1\n",
            "  Downloading tokenizers-0.13.2-cp38-cp38-manylinux_2_17_x86_64.manylinux2014_x86_64.whl (7.6 MB)\n",
            "\u001b[K     |████████████████████████████████| 7.6 MB 26.7 MB/s \n",
            "\u001b[?25hRequirement already satisfied: regex!=2019.12.17 in /usr/local/lib/python3.8/dist-packages (from transformers) (2022.6.2)\n",
            "Requirement already satisfied: requests in /usr/local/lib/python3.8/dist-packages (from transformers) (2.23.0)\n",
            "Requirement already satisfied: tqdm>=4.27 in /usr/local/lib/python3.8/dist-packages (from transformers) (4.64.1)\n",
            "Collecting huggingface-hub<1.0,>=0.10.0\n",
            "  Downloading huggingface_hub-0.11.1-py3-none-any.whl (182 kB)\n",
            "\u001b[K     |████████████████████████████████| 182 kB 79.7 MB/s \n",
            "\u001b[?25hRequirement already satisfied: packaging>=20.0 in /usr/local/lib/python3.8/dist-packages (from transformers) (21.3)\n",
            "Requirement already satisfied: filelock in /usr/local/lib/python3.8/dist-packages (from transformers) (3.8.0)\n",
            "Requirement already satisfied: typing-extensions>=3.7.4.3 in /usr/local/lib/python3.8/dist-packages (from huggingface-hub<1.0,>=0.10.0->transformers) (4.1.1)\n",
            "Requirement already satisfied: pyparsing!=3.0.5,>=2.0.2 in /usr/local/lib/python3.8/dist-packages (from packaging>=20.0->transformers) (3.0.9)\n",
            "Requirement already satisfied: chardet<4,>=3.0.2 in /usr/local/lib/python3.8/dist-packages (from requests->transformers) (3.0.4)\n",
            "Requirement already satisfied: urllib3!=1.25.0,!=1.25.1,<1.26,>=1.21.1 in /usr/local/lib/python3.8/dist-packages (from requests->transformers) (1.24.3)\n",
            "Requirement already satisfied: idna<3,>=2.5 in /usr/local/lib/python3.8/dist-packages (from requests->transformers) (2.10)\n",
            "Requirement already satisfied: certifi>=2017.4.17 in /usr/local/lib/python3.8/dist-packages (from requests->transformers) (2022.9.24)\n",
            "Installing collected packages: tokenizers, huggingface-hub, transformers\n",
            "Successfully installed huggingface-hub-0.11.1 tokenizers-0.13.2 transformers-4.25.1\n",
            "Looking in indexes: https://pypi.org/simple, https://us-python.pkg.dev/colab-wheels/public/simple/\n",
            "Requirement already satisfied: imbalanced-learn in /usr/local/lib/python3.8/dist-packages (0.8.1)\n",
            "Requirement already satisfied: numpy>=1.13.3 in /usr/local/lib/python3.8/dist-packages (from imbalanced-learn) (1.21.6)\n",
            "Requirement already satisfied: scipy>=0.19.1 in /usr/local/lib/python3.8/dist-packages (from imbalanced-learn) (1.7.3)\n",
            "Requirement already satisfied: scikit-learn>=0.24 in /usr/local/lib/python3.8/dist-packages (from imbalanced-learn) (1.0.2)\n",
            "Requirement already satisfied: joblib>=0.11 in /usr/local/lib/python3.8/dist-packages (from imbalanced-learn) (1.2.0)\n",
            "Requirement already satisfied: threadpoolctl>=2.0.0 in /usr/local/lib/python3.8/dist-packages (from scikit-learn>=0.24->imbalanced-learn) (3.1.0)\n",
            "Looking in indexes: https://pypi.org/simple, https://us-python.pkg.dev/colab-wheels/public/simple/\n",
            "Collecting timebudget\n",
            "  Downloading timebudget-0.7.1-py3-none-any.whl (9.5 kB)\n",
            "Installing collected packages: timebudget\n",
            "Successfully installed timebudget-0.7.1\n"
          ]
        }
      ]
    },
    {
      "cell_type": "markdown",
      "source": [
        "# Import required libraries"
      ],
      "metadata": {
        "id": "WCD9r7U-ayU_"
      }
    },
    {
      "cell_type": "code",
      "execution_count": 6,
      "metadata": {
        "id": "sBHBH_88sAbp"
      },
      "outputs": [],
      "source": [
        "#Import required libraries\n",
        "import numpy as np\n",
        "import pandas as pd\n",
        "import torch\n",
        "import torch.nn as nn\n",
        "import torch.optim as optim\n",
        "from torch.optim import Adam\n",
        "from torch.optim import AdamW\n",
        "import torch.nn.functional as F\n",
        "\n",
        "from torch.utils.data import Dataset, DataLoader\n",
        "from transformers import RobertaModel, RobertaTokenizer\n",
        "from transformers import RobertaForSequenceClassification, RobertaConfig\n",
        "\n",
        "from timebudget import timebudget\n",
        "timebudget.report_atexit()  # Generate report when the program exits\n",
        "\n",
        "from tqdm import tqdm_notebook\n",
        "\n",
        "import matplotlib.pyplot as plt\n",
        "\n",
        "import seaborn as sns\n",
        "from sklearn.metrics import confusion_matrix\n",
        "from sklearn.metrics import classification_report\n"
      ]
    },
    {
      "cell_type": "markdown",
      "source": [
        "# Load datasets (train, validation and testing)\n",
        "\n",
        "We have included a zip file containing the datasets."
      ],
      "metadata": {
        "id": "OB03mvw7a8Np"
      }
    },
    {
      "cell_type": "code",
      "source": [
        "#Load training, validation and testing datasets\n",
        "train_dataset = pd.read_csv('./train.txt', sep=\"\\t\", header=None, names=[\"label\", \"data\"])\n",
        "validation_dataset = pd.read_csv('./dev.txt', sep=\"\\t\", header=None, names=[\"label\", \"data\"])\n",
        "test_dataset = pd.read_csv('./test.txt', sep=\"\\t\", header=None, names=[\"label\", \"data\"])"
      ],
      "metadata": {
        "id": "ODnchrohsGda"
      },
      "execution_count": 7,
      "outputs": []
    },
    {
      "cell_type": "code",
      "source": [
        "#Explore distribution of datasets\n",
        "\n",
        "fig, ax = plt.subplots(3, figsize=(5,10))\n",
        "fig.suptitle('Distribution of datasets')\n",
        "\n",
        "#Training data\n",
        "ax[0] = train_dataset['label'].value_counts(sort=False).plot(kind='barh', ax=ax[0])\n",
        "ax[0].set_xlabel('Number of Samples (Training)')\n",
        "ax[0].set_ylabel('Label')\n",
        "\n",
        "for i, v in enumerate(train_dataset['label'].value_counts(sort=False)):\n",
        "    ax[0].text(v + 3, i + .25, str(v), fontweight='bold')\n",
        "\n",
        "# #Validation data\n",
        "ax[1] = validation_dataset['label'].value_counts(sort=False).plot(kind='barh', ax=ax[1])\n",
        "ax[1].set_xlabel('Number of Samples (Validation)')\n",
        "ax[1].set_ylabel('Label')\n",
        "\n",
        "for i, v in enumerate(validation_dataset['label'].value_counts(sort=False)):\n",
        "    ax[1].text(v + 3, i + .25, str(v), fontweight='bold')\n",
        "\n",
        "# #Testing data\n",
        "ax[2] = test_dataset['label'].value_counts(sort=False).plot(kind='barh', ax=ax[2])\n",
        "ax[2].set_xlabel('Number of Samples (Testing)')\n",
        "ax[2].set_ylabel('Label')\n",
        "\n",
        "for i, v in enumerate(test_dataset['label'].value_counts(sort=False)):\n",
        "    ax[2].text(v + 3, i + .25, str(v), fontweight='bold')"
      ],
      "metadata": {
        "colab": {
          "base_uri": "https://localhost:8080/",
          "height": 677
        },
        "id": "uzcMxNR6f8dD",
        "outputId": "0822faf4-a2ae-450a-e578-1d010dbf434d"
      },
      "execution_count": 14,
      "outputs": [
        {
          "output_type": "display_data",
          "data": {
            "text/plain": [
              "<Figure size 360x720 with 3 Axes>"
            ],
            "image/png": "[encoded data removed]"
          },
          "metadata": {
            "needs_background": "light"
          }
        }
      ]
    },
    {
      "cell_type": "markdown",
      "source": [
        "# Balancing datasets\n",
        "\n",
        "To deal with unbalanced data we will oversample and undersample the datasets"
      ],
      "metadata": {
        "id": "wN5SVLKcckyL"
      }
    },
    {
      "cell_type": "code",
      "source": [
        "#Oversampling minority classes\n",
        "c0 = train_dataset[train_dataset['label'] == 1]\n",
        "c1 = train_dataset[train_dataset['label'] == 2]\n",
        "c2 = train_dataset[train_dataset['label'] == 3]\n",
        "c3 = train_dataset[train_dataset['label'] == 4]\n",
        "c4 = train_dataset[train_dataset['label'] == 5]\n",
        "\n",
        "max_count = train_dataset.label.value_counts().max()\n",
        "\n",
        "over_c0 = c0.sample(max_count, replace='True')\n",
        "over_c1 = c1.sample(max_count, replace='True')\n",
        "over_c2 = c2.sample(max_count, replace='True')\n",
        "over_c4 = c4.sample(max_count, replace='True')\n",
        "\n",
        "oversampled_train_dataset = pd.concat([over_c0,over_c1, over_c2, c3, over_c4], axis=0)\n",
        "\n",
        "#Undersampling majority classes\n",
        "min_count = train_dataset.label.value_counts().min()\n",
        "under_c1 = c1.sample(min_count)\n",
        "under_c2 = c2.sample(min_count)\n",
        "under_c3 = c3.sample(min_count)\n",
        "under_c4 = c4.sample(min_count)\n",
        "\n",
        "undersampled_train_dataset = pd.concat([c0,under_c1, under_c2, under_c3, under_c4], axis=0)\n",
        "\n",
        "print('Oversampled dataset: \\n', oversampled_train_dataset.label.value_counts())\n",
        "\n",
        "print('Undersampled dataset: \\n', undersampled_train_dataset.label.value_counts())"
      ],
      "metadata": {
        "colab": {
          "base_uri": "https://localhost:8080/"
        },
        "id": "ij9pZUBocpuk",
        "outputId": "7f2909ea-9387-4ca1-9ac3-e03887560212"
      },
      "execution_count": null,
      "outputs": [
        {
          "output_type": "stream",
          "name": "stdout",
          "text": [
            "Oversampled dataset: \n",
            " 1    2322\n",
            "2    2322\n",
            "3    2322\n",
            "4    2322\n",
            "5    2322\n",
            "Name: label, dtype: int64\n",
            "Undersampled dataset: \n",
            " 1    1092\n",
            "2    1092\n",
            "3    1092\n",
            "4    1092\n",
            "5    1092\n",
            "Name: label, dtype: int64\n"
          ]
        }
      ]
    },
    {
      "cell_type": "code",
      "source": [
        "#Define architecture of RoBERTa model\n",
        "\n",
        "class ROBERTAClassifier(torch.nn.Module):\n",
        "    def __init__(self, n_classes, dropout_rate=0.3):\n",
        "        super(ROBERTAClassifier, self).__init__()\n",
        "        \n",
        "        # config = RobertaConfig.from_pretrained('roberta-base')\n",
        "        # config.num_labels = n_classes\n",
        "        # self.roberta = RobertaForSequenceClassification.from_pretrained('roberta-base', config=config)\n",
        "\n",
        "        self.roberta = RobertaModel.from_pretrained('roberta-base')\n",
        "        self.d1 = torch.nn.Dropout(dropout_rate)\n",
        "        self.l1 = torch.nn.Linear(768, 64)\n",
        "        self.bn1 = torch.nn.LayerNorm(64)\n",
        "        self.d2 = torch.nn.Dropout(dropout_rate)\n",
        "        self.l2 = torch.nn.Linear(64, n_classes)\n",
        "        \n",
        "    def forward(self, input_ids, attention_mask):\n",
        "\n",
        "        # x = self.roberta(input_ids=input_ids, attention_mask=attention_mask, return_dict=False)[0]\n",
        "\n",
        "        _, x = self.roberta(input_ids=input_ids, attention_mask=attention_mask, return_dict=False)\n",
        "\n",
        "        x = self.d1(x)\n",
        "        x = self.l1(x)\n",
        "        x = self.bn1(x)\n",
        "        x = torch.nn.Tanh()(x)\n",
        "        x = self.d2(x)\n",
        "\n",
        "        x = self.l2(x)\n",
        "        # x = F.softmax(self.l2(x), dim=1)\n",
        "        return x"
      ],
      "metadata": {
        "id": "WLpwcWP_waNb"
      },
      "execution_count": null,
      "outputs": []
    },
    {
      "cell_type": "code",
      "source": [
        "#Get the number of classes\n",
        "n_classes = train_dataset['label'].nunique()\n",
        "print('N classes: ', n_classes)\n",
        "\n",
        "model = ROBERTAClassifier(n_classes)"
      ],
      "metadata": {
        "colab": {
          "base_uri": "https://localhost:8080/"
        },
        "id": "rGK2aZL2wiYm",
        "outputId": "7fd0c169-8b64-403e-9a2a-63e3ccd7ed12"
      },
      "execution_count": null,
      "outputs": [
        {
          "output_type": "stream",
          "name": "stdout",
          "text": [
            "N classes:  5\n"
          ]
        },
        {
          "output_type": "stream",
          "name": "stderr",
          "text": [
            "Some weights of the model checkpoint at roberta-base were not used when initializing RobertaModel: ['lm_head.dense.bias', 'lm_head.decoder.weight', 'lm_head.bias', 'lm_head.layer_norm.weight', 'lm_head.dense.weight', 'lm_head.layer_norm.bias']\n",
            "- This IS expected if you are initializing RobertaModel from the checkpoint of a model trained on another task or with another architecture (e.g. initializing a BertForSequenceClassification model from a BertForPreTraining model).\n",
            "- This IS NOT expected if you are initializing RobertaModel from the checkpoint of a model that you expect to be exactly identical (initializing a BertForSequenceClassification model from a BertForSequenceClassification model).\n"
          ]
        }
      ]
    },
    {
      "cell_type": "code",
      "source": [
        "#Initialize tokenizer\n",
        "tokenizer = RobertaTokenizer.from_pretrained('roberta-base')"
      ],
      "metadata": {
        "id": "i9fYTGaSwlkx"
      },
      "execution_count": null,
      "outputs": []
    },
    {
      "cell_type": "code",
      "source": [
        "def prepare_features(review, zero_pad = False, max_seq_length = 512):\n",
        "    \n",
        "    enc_text = tokenizer.encode_plus(text=review, add_special_tokens=True, max_length=max_seq_length, padding='max_length', truncation=True)\n",
        "    return enc_text"
      ],
      "metadata": {
        "id": "GQPFvPTQ9PIG"
      },
      "execution_count": null,
      "outputs": []
    },
    {
      "cell_type": "code",
      "source": [
        "example_review = train_dataset.loc[0]['data']\n",
        "print(example_review)\n",
        "enc_example = prepare_features(example_review)\n",
        "print(enc_example)\n",
        "print(len(enc_example['input_ids']))"
      ],
      "metadata": {
        "colab": {
          "base_uri": "https://localhost:8080/"
        },
        "id": "UdhcORzd98B7",
        "outputId": "777801c5-efb5-4a7b-ffe2-d74a46834e87"
      },
      "execution_count": null,
      "outputs": [
        {
          "output_type": "stream",
          "name": "stdout",
          "text": [
            "The Rock is destined to be the 21st Century 's new `` Conan '' and that he 's going to make a splash even greater than Arnold Schwarzenegger , Jean-Claud Van Damme or Steven Segal .\n",
            "{'input_ids': [0, 133, 2751, 16, 19083, 7, 28, 5, 733, 620, 9348, 128, 29, 92, 45518, 38650, 12801, 8, 14, 37, 128, 29, 164, 7, 146, 10, 17158, 190, 2388, 87, 11816, 28797, 2156, 5363, 12, 11428, 5247, 3415, 8234, 1794, 50, 5031, 1608, 9487, 479, 2, 1, 1, 1, 1, 1, 1, 1, 1, 1, 1, 1, 1, 1, 1, 1, 1, 1, 1, 1, 1, 1, 1, 1, 1, 1, 1, 1, 1, 1, 1, 1, 1, 1, 1, 1, 1, 1, 1, 1, 1, 1, 1, 1, 1, 1, 1, 1, 1, 1, 1, 1, 1, 1, 1, 1, 1, 1, 1, 1, 1, 1, 1, 1, 1, 1, 1, 1, 1, 1, 1, 1, 1, 1, 1, 1, 1, 1, 1, 1, 1, 1, 1, 1, 1, 1, 1, 1, 1, 1, 1, 1, 1, 1, 1, 1, 1, 1, 1, 1, 1, 1, 1, 1, 1, 1, 1, 1, 1, 1, 1, 1, 1, 1, 1, 1, 1, 1, 1, 1, 1, 1, 1, 1, 1, 1, 1, 1, 1, 1, 1, 1, 1, 1, 1, 1, 1, 1, 1, 1, 1, 1, 1, 1, 1, 1, 1, 1, 1, 1, 1, 1, 1, 1, 1, 1, 1, 1, 1, 1, 1, 1, 1, 1, 1, 1, 1, 1, 1, 1, 1, 1, 1, 1, 1, 1, 1, 1, 1, 1, 1, 1, 1, 1, 1, 1, 1, 1, 1, 1, 1, 1, 1, 1, 1, 1, 1, 1, 1, 1, 1, 1, 1, 1, 1, 1, 1, 1, 1, 1, 1, 1, 1, 1, 1, 1, 1, 1, 1, 1, 1, 1, 1, 1, 1, 1, 1, 1, 1, 1, 1, 1, 1, 1, 1, 1, 1, 1, 1, 1, 1, 1, 1, 1, 1, 1, 1, 1, 1, 1, 1, 1, 1, 1, 1, 1, 1, 1, 1, 1, 1, 1, 1, 1, 1, 1, 1, 1, 1, 1, 1, 1, 1, 1, 1, 1, 1, 1, 1, 1, 1, 1, 1, 1, 1, 1, 1, 1, 1, 1, 1, 1, 1, 1, 1, 1, 1, 1, 1, 1, 1, 1, 1, 1, 1, 1, 1, 1, 1, 1, 1, 1, 1, 1, 1, 1, 1, 1, 1, 1, 1, 1, 1, 1, 1, 1, 1, 1, 1, 1, 1, 1, 1, 1, 1, 1, 1, 1, 1, 1, 1, 1, 1, 1, 1, 1, 1, 1, 1, 1, 1, 1, 1, 1, 1, 1, 1, 1, 1, 1, 1, 1, 1, 1, 1, 1, 1, 1, 1, 1, 1, 1, 1, 1, 1, 1, 1, 1, 1, 1, 1, 1, 1, 1, 1, 1, 1, 1, 1, 1, 1, 1, 1, 1, 1, 1, 1, 1, 1, 1, 1, 1, 1, 1, 1, 1, 1, 1, 1, 1, 1, 1, 1, 1, 1, 1, 1, 1, 1, 1, 1, 1, 1, 1, 1, 1, 1, 1, 1, 1, 1, 1, 1, 1, 1, 1, 1, 1, 1, 1, 1, 1, 1, 1, 1, 1, 1, 1, 1, 1, 1, 1, 1, 1, 1, 1, 1, 1, 1, 1, 1, 1, 1, 1, 1, 1, 1], 'attention_mask': [1, 1, 1, 1, 1, 1, 1, 1, 1, 1, 1, 1, 1, 1, 1, 1, 1, 1, 1, 1, 1, 1, 1, 1, 1, 1, 1, 1, 1, 1, 1, 1, 1, 1, 1, 1, 1, 1, 1, 1, 1, 1, 1, 1, 1, 1, 0, 0, 0, 0, 0, 0, 0, 0, 0, 0, 0, 0, 0, 0, 0, 0, 0, 0, 0, 0, 0, 0, 0, 0, 0, 0, 0, 0, 0, 0, 0, 0, 0, 0, 0, 0, 0, 0, 0, 0, 0, 0, 0, 0, 0, 0, 0, 0, 0, 0, 0, 0, 0, 0, 0, 0, 0, 0, 0, 0, 0, 0, 0, 0, 0, 0, 0, 0, 0, 0, 0, 0, 0, 0, 0, 0, 0, 0, 0, 0, 0, 0, 0, 0, 0, 0, 0, 0, 0, 0, 0, 0, 0, 0, 0, 0, 0, 0, 0, 0, 0, 0, 0, 0, 0, 0, 0, 0, 0, 0, 0, 0, 0, 0, 0, 0, 0, 0, 0, 0, 0, 0, 0, 0, 0, 0, 0, 0, 0, 0, 0, 0, 0, 0, 0, 0, 0, 0, 0, 0, 0, 0, 0, 0, 0, 0, 0, 0, 0, 0, 0, 0, 0, 0, 0, 0, 0, 0, 0, 0, 0, 0, 0, 0, 0, 0, 0, 0, 0, 0, 0, 0, 0, 0, 0, 0, 0, 0, 0, 0, 0, 0, 0, 0, 0, 0, 0, 0, 0, 0, 0, 0, 0, 0, 0, 0, 0, 0, 0, 0, 0, 0, 0, 0, 0, 0, 0, 0, 0, 0, 0, 0, 0, 0, 0, 0, 0, 0, 0, 0, 0, 0, 0, 0, 0, 0, 0, 0, 0, 0, 0, 0, 0, 0, 0, 0, 0, 0, 0, 0, 0, 0, 0, 0, 0, 0, 0, 0, 0, 0, 0, 0, 0, 0, 0, 0, 0, 0, 0, 0, 0, 0, 0, 0, 0, 0, 0, 0, 0, 0, 0, 0, 0, 0, 0, 0, 0, 0, 0, 0, 0, 0, 0, 0, 0, 0, 0, 0, 0, 0, 0, 0, 0, 0, 0, 0, 0, 0, 0, 0, 0, 0, 0, 0, 0, 0, 0, 0, 0, 0, 0, 0, 0, 0, 0, 0, 0, 0, 0, 0, 0, 0, 0, 0, 0, 0, 0, 0, 0, 0, 0, 0, 0, 0, 0, 0, 0, 0, 0, 0, 0, 0, 0, 0, 0, 0, 0, 0, 0, 0, 0, 0, 0, 0, 0, 0, 0, 0, 0, 0, 0, 0, 0, 0, 0, 0, 0, 0, 0, 0, 0, 0, 0, 0, 0, 0, 0, 0, 0, 0, 0, 0, 0, 0, 0, 0, 0, 0, 0, 0, 0, 0, 0, 0, 0, 0, 0, 0, 0, 0, 0, 0, 0, 0, 0, 0, 0, 0, 0, 0, 0, 0, 0, 0, 0, 0, 0, 0, 0, 0, 0, 0, 0, 0, 0, 0, 0, 0, 0, 0, 0, 0, 0, 0, 0, 0, 0, 0, 0, 0, 0, 0, 0, 0, 0, 0, 0, 0, 0, 0, 0, 0, 0, 0, 0, 0, 0, 0, 0, 0, 0, 0, 0, 0, 0, 0]}\n",
            "512\n"
          ]
        }
      ]
    },
    {
      "cell_type": "code",
      "source": [
        "#Class to prepare X and Y data\n",
        "class Format_Data(Dataset):\n",
        "    def __init__(self, dataframe):\n",
        "        self.len = len(dataframe)\n",
        "        self.data = dataframe\n",
        "        \n",
        "    def __getitem__(self, index):\n",
        "\n",
        "        review = self.data['data'].iloc[index]\n",
        "\n",
        "        X = prepare_features(review)\n",
        "\n",
        "        #Transform current classes [1,2,3,4,5] to [0,1,2,3,4]\n",
        "        y = self.data['label'].iloc[index] - 1\n",
        "        \n",
        "        return np.array(X['input_ids']), np.array(X['attention_mask']), np.array(y)\n",
        "    \n",
        "    def __len__(self):\n",
        "        return self.len"
      ],
      "metadata": {
        "id": "28XzPYZU-buk"
      },
      "execution_count": null,
      "outputs": []
    },
    {
      "cell_type": "code",
      "source": [
        "training_set = Format_Data(train_dataset)\n",
        "# oversampled_training_set = Format_Data(oversampled_train_dataset)\n",
        "# undersampled_training_set = Format_Data(undersampled_train_dataset)\n",
        "\n",
        "validation_set = Format_Data(validation_dataset)\n"
      ],
      "metadata": {
        "id": "IObL842O_nY-"
      },
      "execution_count": null,
      "outputs": []
    },
    {
      "cell_type": "code",
      "source": [
        "testing_set = Format_Data(test_dataset)"
      ],
      "metadata": {
        "id": "qFpwg3eAeniX"
      },
      "execution_count": null,
      "outputs": []
    },
    {
      "cell_type": "code",
      "source": [
        "### Dataloaders Parameters\n",
        "params = {'batch_size': 8}\n"
      ],
      "metadata": {
        "id": "PFPcIAYyADs8"
      },
      "execution_count": null,
      "outputs": []
    },
    {
      "cell_type": "markdown",
      "source": [
        "# Training using undersampled/oversampled/original dataset"
      ],
      "metadata": {
        "id": "JhedR1xqgiGe"
      }
    },
    {
      "cell_type": "code",
      "source": [
        "# u_training_loader = DataLoader(undersampled_training_set, **params)\n",
        "# o_training_loader = DataLoader(oversampled_training_set, **params)\n",
        "training_loader = DataLoader(training_set, **params)\n",
        "validation_loader = DataLoader(validation_set, **params)\n"
      ],
      "metadata": {
        "id": "Meg0zQmpeqjI"
      },
      "execution_count": null,
      "outputs": []
    },
    {
      "cell_type": "code",
      "source": [
        "testing_loader = DataLoader(testing_set, **params)"
      ],
      "metadata": {
        "id": "ockteNPMesvO"
      },
      "execution_count": null,
      "outputs": []
    },
    {
      "cell_type": "code",
      "source": [
        "loss_function = nn.CrossEntropyLoss()\n",
        "learning_rate = 1e-5\n",
        "optimizer = optim.AdamW(params=model.parameters(), betas=(0.9, 0.98), lr=learning_rate)\n",
        "\n",
        "if torch.cuda.is_available():\n",
        "    print(\"GPU is AVAILABLE!🤘🙌💪\")\n",
        "    model = model.cuda()"
      ],
      "metadata": {
        "id": "4eXvG6IaAKr_",
        "colab": {
          "base_uri": "https://localhost:8080/"
        },
        "outputId": "4d74b8cd-93f2-4be1-e376-4f74cb6c9d80"
      },
      "execution_count": null,
      "outputs": [
        {
          "output_type": "stream",
          "name": "stdout",
          "text": [
            "GPU is AVAILABLE!🤘🙌💪\n"
          ]
        }
      ]
    },
    {
      "cell_type": "code",
      "source": [
        "from sklearn.metrics import f1_score\n",
        "\n",
        "@timebudget\n",
        "def train(model, epochs, training_loader_):\n",
        "  best_accuracy = 0.0 \n",
        "  max_epochs = epochs\n",
        "  for epoch in tqdm_notebook(range(max_epochs)):\n",
        "\n",
        "      train_loss = 0.0\n",
        "      model.train()\n",
        "      correct = 0\n",
        "      total = 0\n",
        "      for i, (ids, attention_mask, labels) in enumerate(training_loader_):\n",
        "\n",
        "          optimizer.zero_grad()\n",
        "          if torch.cuda.is_available():\n",
        "              ids = ids.cuda()\n",
        "              attention_mask = attention_mask.cuda()\n",
        "              labels = labels.cuda()\n",
        "\n",
        "          output = model.forward(ids, attention_mask=attention_mask)\n",
        "\n",
        "          loss = loss_function(output, labels)\n",
        "          loss.backward()\n",
        "          optimizer.step()\n",
        "          train_loss += loss.item()\n",
        "\n",
        "          #Output acc every 100\n",
        "          _, predicted = torch.max(output, 1)\n",
        "          total += labels.size(0)\n",
        "          correct += (predicted == labels).sum().item()\n",
        "          accuracy = 100.00 * correct / total\n",
        "\n",
        "          if i%100 == 0:\n",
        "              print('Iteration: {}. Loss: {}. Training Accuracy: {}.%'.format(i, loss.item(), accuracy))\n",
        "\n",
        "      #Calculate training accuracy and loss\n",
        "      final_t_accuracy = 100.00 * correct / total\n",
        "      avg_t_loss = train_loss / len(training_loader_)\n",
        "        \n",
        "      #Validation loop\n",
        "      valid_loss = 0.0\n",
        "      correct = 0\n",
        "      total = 0\n",
        "\n",
        "      with torch.no_grad():\n",
        "          model.eval()\n",
        "          for i, (ids, attention_mask, labels) in enumerate(validation_loader):\n",
        "\n",
        "              if torch.cuda.is_available():\n",
        "                  ids = ids.cuda()\n",
        "                  attention_mask = attention_mask.cuda()\n",
        "                  labels = labels.cuda()\n",
        "          \n",
        "              output = model.forward(ids, attention_mask=attention_mask)\n",
        "              loss = loss_function(output, labels)\n",
        "              valid_loss += loss.item()\n",
        "\n",
        "              _, predicted = torch.max(output, 1)\n",
        "              total += labels.size(0)\n",
        "              correct += (predicted == labels).sum().item()\n",
        "              accuracy = 100.00 * correct / total\n",
        "\n",
        "              if i%100 == 0:\n",
        "                  print('Iteration: {}. Loss: {}. Validation Accuracy: {}.%'.format(i, loss.item(), accuracy))\n",
        "\n",
        "      #Calculate validation accuracy and loss\n",
        "      final_v_accuracy = 100.00 * correct / total\n",
        "      avg_v_loss = valid_loss / len(validation_loader)\n",
        "\n",
        "      #Report results per epoch\n",
        "      print(f'Epoch {epoch} \\t Training Loss: {avg_t_loss} \\t Training Accuracy: {final_t_accuracy} \\t Validation Loss: {avg_v_loss} \\t Validation Accuracy: {final_v_accuracy}')\n",
        "\n",
        "      # Save the model if the accuracy is the best \n",
        "      if final_v_accuracy > best_accuracy: \n",
        "            print(f'Accuracy increased({best_accuracy:.6f}--->{final_v_accuracy:.6f}) \\t Saving The Model')\n",
        "            best_accuracy = final_v_accuracy\n",
        "            torch.save(model.state_dict(), './mymodel.pt')                    \n",
        "  \n",
        "  return \"Training finished!\""
      ],
      "metadata": {
        "id": "jTIUuNsZAwS3"
      },
      "execution_count": null,
      "outputs": []
    },
    {
      "cell_type": "code",
      "source": [
        "train(model, 5, training_loader)"
      ],
      "metadata": {
        "colab": {
          "base_uri": "https://localhost:8080/",
          "height": 1000,
          "referenced_widgets": [
            "82238d01f6c448e4bb587960f39f1723",
            "33566efc1cf04610b3ac10d53c9b7dd3",
            "fd7ea3ed4a684bc99b276349169e8c07",
            "eb4aec36fcfd4d399ff3b2ef0ac527d2",
            "7fe590c7b33a4db0976c62dc8d28864c",
            "6ea76dbc85f64663b9de5186ee9905ae",
            "631695e030944160bbfebaaa192b41e8",
            "cd8febfe697b430e9970bbee229a46b1",
            "12c4754853294ae1a4b66856be640917",
            "a81a5ec252f747bcbcdb4e5d3fe9f74c",
            "2537956ee5824bd98b0408f8a51a9c8b"
          ]
        },
        "id": "ku2uAUAgGamV",
        "outputId": "77e2cfcd-1522-48b3-e59f-c882c8b2805c"
      },
      "execution_count": null,
      "outputs": [
        {
          "metadata": {
            "tags": null
          },
          "name": "stderr",
          "output_type": "stream",
          "text": [
            "/usr/local/lib/python3.7/dist-packages/ipykernel_launcher.py:7: TqdmDeprecationWarning: This function will be removed in tqdm==5.0.0\n",
            "Please use `tqdm.notebook.tqdm` instead of `tqdm.tqdm_notebook`\n",
            "  import sys\n"
          ]
        },
        {
          "data": {
            "application/vnd.jupyter.widget-view+json": {
              "model_id": "82238d01f6c448e4bb587960f39f1723",
              "version_major": 2,
              "version_minor": 0
            },
            "text/plain": [
              "  0%|          | 0/5 [00:00<?, ?it/s]"
            ]
          },
          "metadata": {},
          "output_type": "display_data"
        },
        {
          "output_type": "stream",
          "name": "stdout",
          "text": [
            "Iteration: 0. Loss: 1.9123878479003906. Training Accuracy: 0.0.%\n",
            "Iteration: 100. Loss: 1.4801982641220093. Training Accuracy: 42.82178217821782.%\n",
            "Iteration: 200. Loss: 1.0363661050796509. Training Accuracy: 45.646766169154226.%\n",
            "Iteration: 300. Loss: 0.8117481470108032. Training Accuracy: 47.79900332225914.%\n",
            "Iteration: 400. Loss: 1.1208134889602661. Training Accuracy: 49.781795511221944.%\n",
            "Iteration: 500. Loss: 1.4582126140594482. Training Accuracy: 50.424151696606785.%\n",
            "Iteration: 600. Loss: 1.137970209121704. Training Accuracy: 48.48169717138103.%\n",
            "Iteration: 700. Loss: 1.7825311422348022. Training Accuracy: 48.44864479315264.%\n",
            "Iteration: 800. Loss: 1.1688129901885986. Training Accuracy: 48.36142322097378.%\n",
            "Iteration: 900. Loss: 1.3552838563919067. Training Accuracy: 48.46004439511654.%\n",
            "Iteration: 1000. Loss: 1.305487036705017. Training Accuracy: 48.57642357642358.%\n",
            "Iteration: 0. Loss: 1.6790359020233154. Validation Accuracy: 25.0.%\n",
            "Iteration: 100. Loss: 1.0806810855865479. Validation Accuracy: 38.242574257425744.%\n",
            "Epoch 0 \t Training Loss: 1.1728694087891989 \t Training Accuracy: 48.46676029962547 \t Validation Loss: 1.3268241173979165 \t Validation Accuracy: 39.782016348773844\n",
            "Accuracy increased(0.000000--->39.782016) \t Saving The Model\n",
            "Iteration: 0. Loss: 1.4137310981750488. Training Accuracy: 50.0.%\n",
            "Iteration: 100. Loss: 0.9568563103675842. Training Accuracy: 58.415841584158414.%\n",
            "Iteration: 200. Loss: 0.8020365834236145. Training Accuracy: 57.77363184079602.%\n",
            "Iteration: 300. Loss: 0.9872041344642639. Training Accuracy: 58.43023255813954.%\n",
            "Iteration: 400. Loss: 0.8540629744529724. Training Accuracy: 59.03990024937656.%\n",
            "Iteration: 500. Loss: 1.2937661409378052. Training Accuracy: 59.231536926147704.%\n",
            "Iteration: 600. Loss: 1.2098586559295654. Training Accuracy: 57.009151414309486.%\n",
            "Iteration: 700. Loss: 1.4137415885925293. Training Accuracy: 56.65121255349501.%\n",
            "Iteration: 800. Loss: 1.3514950275421143. Training Accuracy: 56.32022471910113.%\n",
            "Iteration: 900. Loss: 1.5765291452407837. Training Accuracy: 56.57602663706992.%\n",
            "Iteration: 1000. Loss: 1.61845862865448. Training Accuracy: 56.36863136863137.%\n",
            "Iteration: 0. Loss: 1.5878278017044067. Validation Accuracy: 37.5.%\n",
            "Iteration: 100. Loss: 1.1832841634750366. Validation Accuracy: 45.42079207920792.%\n",
            "Epoch 1 \t Training Loss: 1.0152313237947024 \t Training Accuracy: 56.3436329588015 \t Validation Loss: 1.222007146348124 \t Validation Accuracy: 48.3197093551317\n",
            "Accuracy increased(39.782016--->48.319709) \t Saving The Model\n",
            "Iteration: 0. Loss: 0.9975786209106445. Training Accuracy: 62.5.%\n",
            "Iteration: 100. Loss: 0.6548017859458923. Training Accuracy: 64.60396039603961.%\n",
            "Iteration: 200. Loss: 0.8191956877708435. Training Accuracy: 64.36567164179104.%\n",
            "Iteration: 300. Loss: 0.873004138469696. Training Accuracy: 66.2375415282392.%\n",
            "Iteration: 400. Loss: 1.0456739664077759. Training Accuracy: 66.30299251870325.%\n",
            "Iteration: 500. Loss: 1.328627109527588. Training Accuracy: 66.66666666666667.%\n",
            "Iteration: 600. Loss: 1.241058111190796. Training Accuracy: 64.51747088186356.%\n",
            "Iteration: 700. Loss: 1.3757466077804565. Training Accuracy: 63.62339514978602.%\n",
            "Iteration: 800. Loss: 1.3263769149780273. Training Accuracy: 63.45193508114856.%\n",
            "Iteration: 900. Loss: 1.254717230796814. Training Accuracy: 63.73473917869035.%\n",
            "Iteration: 1000. Loss: 1.1811847686767578. Training Accuracy: 63.773726273726275.%\n",
            "Iteration: 0. Loss: 1.5549366474151611. Validation Accuracy: 37.5.%\n",
            "Iteration: 100. Loss: 1.3792728185653687. Validation Accuracy: 48.886138613861384.%\n",
            "Epoch 2 \t Training Loss: 0.9028170748652143 \t Training Accuracy: 63.40121722846442 \t Validation Loss: 1.1802143499903057 \t Validation Accuracy: 50.22706630336058\n",
            "Accuracy increased(48.319709--->50.227066) \t Saving The Model\n",
            "Iteration: 0. Loss: 0.753885805606842. Training Accuracy: 75.0.%\n",
            "Iteration: 100. Loss: 0.5039533972740173. Training Accuracy: 69.05940594059406.%\n",
            "Iteration: 200. Loss: 0.5125755667686462. Training Accuracy: 70.33582089552239.%\n",
            "Iteration: 300. Loss: 0.6348552703857422. Training Accuracy: 71.63621262458472.%\n",
            "Iteration: 400. Loss: 0.5657378435134888. Training Accuracy: 72.0074812967581.%\n",
            "Iteration: 500. Loss: 1.1987040042877197. Training Accuracy: 72.67964071856288.%\n",
            "Iteration: 600. Loss: 1.2260267734527588. Training Accuracy: 70.34109816971714.%\n",
            "Iteration: 700. Loss: 1.0064446926116943. Training Accuracy: 70.0962910128388.%\n",
            "Iteration: 800. Loss: 1.4159722328186035. Training Accuracy: 69.89700374531836.%\n",
            "Iteration: 900. Loss: 1.0089956521987915. Training Accuracy: 70.1581576026637.%\n",
            "Iteration: 1000. Loss: 1.1227772235870361. Training Accuracy: 70.41708291708292.%\n",
            "Iteration: 0. Loss: 1.4642940759658813. Validation Accuracy: 50.0.%\n",
            "Iteration: 100. Loss: 1.335555076599121. Validation Accuracy: 50.99009900990099.%\n",
            "Epoch 3 \t Training Loss: 0.7763171305928784 \t Training Accuracy: 70.30664794007491 \t Validation Loss: 1.2635822663272636 \t Validation Accuracy: 50.22706630336058\n",
            "Iteration: 0. Loss: 0.7470769286155701. Training Accuracy: 50.0.%\n",
            "Iteration: 100. Loss: 0.4922840893268585. Training Accuracy: 75.61881188118812.%\n",
            "Iteration: 200. Loss: 0.49353936314582825. Training Accuracy: 77.42537313432835.%\n",
            "Iteration: 300. Loss: 0.7994412183761597. Training Accuracy: 77.49169435215947.%\n",
            "Iteration: 400. Loss: 0.48655572533607483. Training Accuracy: 78.83416458852868.%\n",
            "Iteration: 500. Loss: 0.536527156829834. Training Accuracy: 79.14171656686626.%\n",
            "Iteration: 600. Loss: 1.062627911567688. Training Accuracy: 76.74708818635607.%\n",
            "Iteration: 700. Loss: 0.6848746538162231. Training Accuracy: 76.33737517831669.%\n",
            "Iteration: 800. Loss: 1.3946219682693481. Training Accuracy: 76.02996254681648.%\n",
            "Iteration: 900. Loss: 0.38977035880088806. Training Accuracy: 76.19311875693674.%\n",
            "Iteration: 1000. Loss: 0.9470024108886719. Training Accuracy: 76.36113886113885.%\n",
            "Iteration: 0. Loss: 1.7182672023773193. Validation Accuracy: 25.0.%\n",
            "Iteration: 100. Loss: 2.032838821411133. Validation Accuracy: 49.62871287128713.%\n",
            "Epoch 4 \t Training Loss: 0.6705413272374132 \t Training Accuracy: 76.12359550561797 \t Validation Loss: 1.4248021748186885 \t Validation Accuracy: 48.59218891916439\n",
            "train took 4338.849sec\n"
          ]
        },
        {
          "output_type": "execute_result",
          "data": {
            "text/plain": [
              "'Training finished!'"
            ],
            "application/vnd.google.colaboratory.intrinsic+json": {
              "type": "string"
            }
          },
          "metadata": {},
          "execution_count": 19
        }
      ]
    },
    {
      "cell_type": "code",
      "source": [
        "#Load best model\n",
        "model.load_state_dict(torch.load('./mymodel.pt'))\n",
        "model.eval()"
      ],
      "metadata": {
        "colab": {
          "base_uri": "https://localhost:8080/"
        },
        "id": "sa10w5EVttD5",
        "outputId": "9a52f985-5727-4587-92c2-c8c9dcb78974"
      },
      "execution_count": null,
      "outputs": [
        {
          "output_type": "execute_result",
          "data": {
            "text/plain": [
              "ROBERTAClassifier(\n",
              "  (roberta): RobertaModel(\n",
              "    (embeddings): RobertaEmbeddings(\n",
              "      (word_embeddings): Embedding(50265, 768, padding_idx=1)\n",
              "      (position_embeddings): Embedding(514, 768, padding_idx=1)\n",
              "      (token_type_embeddings): Embedding(1, 768)\n",
              "      (LayerNorm): LayerNorm((768,), eps=1e-05, elementwise_affine=True)\n",
              "      (dropout): Dropout(p=0.1, inplace=False)\n",
              "    )\n",
              "    (encoder): RobertaEncoder(\n",
              "      (layer): ModuleList(\n",
              "        (0): RobertaLayer(\n",
              "          (attention): RobertaAttention(\n",
              "            (self): RobertaSelfAttention(\n",
              "              (query): Linear(in_features=768, out_features=768, bias=True)\n",
              "              (key): Linear(in_features=768, out_features=768, bias=True)\n",
              "              (value): Linear(in_features=768, out_features=768, bias=True)\n",
              "              (dropout): Dropout(p=0.1, inplace=False)\n",
              "            )\n",
              "            (output): RobertaSelfOutput(\n",
              "              (dense): Linear(in_features=768, out_features=768, bias=True)\n",
              "              (LayerNorm): LayerNorm((768,), eps=1e-05, elementwise_affine=True)\n",
              "              (dropout): Dropout(p=0.1, inplace=False)\n",
              "            )\n",
              "          )\n",
              "          (intermediate): RobertaIntermediate(\n",
              "            (dense): Linear(in_features=768, out_features=3072, bias=True)\n",
              "            (intermediate_act_fn): GELUActivation()\n",
              "          )\n",
              "          (output): RobertaOutput(\n",
              "            (dense): Linear(in_features=3072, out_features=768, bias=True)\n",
              "            (LayerNorm): LayerNorm((768,), eps=1e-05, elementwise_affine=True)\n",
              "            (dropout): Dropout(p=0.1, inplace=False)\n",
              "          )\n",
              "        )\n",
              "        (1): RobertaLayer(\n",
              "          (attention): RobertaAttention(\n",
              "            (self): RobertaSelfAttention(\n",
              "              (query): Linear(in_features=768, out_features=768, bias=True)\n",
              "              (key): Linear(in_features=768, out_features=768, bias=True)\n",
              "              (value): Linear(in_features=768, out_features=768, bias=True)\n",
              "              (dropout): Dropout(p=0.1, inplace=False)\n",
              "            )\n",
              "            (output): RobertaSelfOutput(\n",
              "              (dense): Linear(in_features=768, out_features=768, bias=True)\n",
              "              (LayerNorm): LayerNorm((768,), eps=1e-05, elementwise_affine=True)\n",
              "              (dropout): Dropout(p=0.1, inplace=False)\n",
              "            )\n",
              "          )\n",
              "          (intermediate): RobertaIntermediate(\n",
              "            (dense): Linear(in_features=768, out_features=3072, bias=True)\n",
              "            (intermediate_act_fn): GELUActivation()\n",
              "          )\n",
              "          (output): RobertaOutput(\n",
              "            (dense): Linear(in_features=3072, out_features=768, bias=True)\n",
              "            (LayerNorm): LayerNorm((768,), eps=1e-05, elementwise_affine=True)\n",
              "            (dropout): Dropout(p=0.1, inplace=False)\n",
              "          )\n",
              "        )\n",
              "        (2): RobertaLayer(\n",
              "          (attention): RobertaAttention(\n",
              "            (self): RobertaSelfAttention(\n",
              "              (query): Linear(in_features=768, out_features=768, bias=True)\n",
              "              (key): Linear(in_features=768, out_features=768, bias=True)\n",
              "              (value): Linear(in_features=768, out_features=768, bias=True)\n",
              "              (dropout): Dropout(p=0.1, inplace=False)\n",
              "            )\n",
              "            (output): RobertaSelfOutput(\n",
              "              (dense): Linear(in_features=768, out_features=768, bias=True)\n",
              "              (LayerNorm): LayerNorm((768,), eps=1e-05, elementwise_affine=True)\n",
              "              (dropout): Dropout(p=0.1, inplace=False)\n",
              "            )\n",
              "          )\n",
              "          (intermediate): RobertaIntermediate(\n",
              "            (dense): Linear(in_features=768, out_features=3072, bias=True)\n",
              "            (intermediate_act_fn): GELUActivation()\n",
              "          )\n",
              "          (output): RobertaOutput(\n",
              "            (dense): Linear(in_features=3072, out_features=768, bias=True)\n",
              "            (LayerNorm): LayerNorm((768,), eps=1e-05, elementwise_affine=True)\n",
              "            (dropout): Dropout(p=0.1, inplace=False)\n",
              "          )\n",
              "        )\n",
              "        (3): RobertaLayer(\n",
              "          (attention): RobertaAttention(\n",
              "            (self): RobertaSelfAttention(\n",
              "              (query): Linear(in_features=768, out_features=768, bias=True)\n",
              "              (key): Linear(in_features=768, out_features=768, bias=True)\n",
              "              (value): Linear(in_features=768, out_features=768, bias=True)\n",
              "              (dropout): Dropout(p=0.1, inplace=False)\n",
              "            )\n",
              "            (output): RobertaSelfOutput(\n",
              "              (dense): Linear(in_features=768, out_features=768, bias=True)\n",
              "              (LayerNorm): LayerNorm((768,), eps=1e-05, elementwise_affine=True)\n",
              "              (dropout): Dropout(p=0.1, inplace=False)\n",
              "            )\n",
              "          )\n",
              "          (intermediate): RobertaIntermediate(\n",
              "            (dense): Linear(in_features=768, out_features=3072, bias=True)\n",
              "            (intermediate_act_fn): GELUActivation()\n",
              "          )\n",
              "          (output): RobertaOutput(\n",
              "            (dense): Linear(in_features=3072, out_features=768, bias=True)\n",
              "            (LayerNorm): LayerNorm((768,), eps=1e-05, elementwise_affine=True)\n",
              "            (dropout): Dropout(p=0.1, inplace=False)\n",
              "          )\n",
              "        )\n",
              "        (4): RobertaLayer(\n",
              "          (attention): RobertaAttention(\n",
              "            (self): RobertaSelfAttention(\n",
              "              (query): Linear(in_features=768, out_features=768, bias=True)\n",
              "              (key): Linear(in_features=768, out_features=768, bias=True)\n",
              "              (value): Linear(in_features=768, out_features=768, bias=True)\n",
              "              (dropout): Dropout(p=0.1, inplace=False)\n",
              "            )\n",
              "            (output): RobertaSelfOutput(\n",
              "              (dense): Linear(in_features=768, out_features=768, bias=True)\n",
              "              (LayerNorm): LayerNorm((768,), eps=1e-05, elementwise_affine=True)\n",
              "              (dropout): Dropout(p=0.1, inplace=False)\n",
              "            )\n",
              "          )\n",
              "          (intermediate): RobertaIntermediate(\n",
              "            (dense): Linear(in_features=768, out_features=3072, bias=True)\n",
              "            (intermediate_act_fn): GELUActivation()\n",
              "          )\n",
              "          (output): RobertaOutput(\n",
              "            (dense): Linear(in_features=3072, out_features=768, bias=True)\n",
              "            (LayerNorm): LayerNorm((768,), eps=1e-05, elementwise_affine=True)\n",
              "            (dropout): Dropout(p=0.1, inplace=False)\n",
              "          )\n",
              "        )\n",
              "        (5): RobertaLayer(\n",
              "          (attention): RobertaAttention(\n",
              "            (self): RobertaSelfAttention(\n",
              "              (query): Linear(in_features=768, out_features=768, bias=True)\n",
              "              (key): Linear(in_features=768, out_features=768, bias=True)\n",
              "              (value): Linear(in_features=768, out_features=768, bias=True)\n",
              "              (dropout): Dropout(p=0.1, inplace=False)\n",
              "            )\n",
              "            (output): RobertaSelfOutput(\n",
              "              (dense): Linear(in_features=768, out_features=768, bias=True)\n",
              "              (LayerNorm): LayerNorm((768,), eps=1e-05, elementwise_affine=True)\n",
              "              (dropout): Dropout(p=0.1, inplace=False)\n",
              "            )\n",
              "          )\n",
              "          (intermediate): RobertaIntermediate(\n",
              "            (dense): Linear(in_features=768, out_features=3072, bias=True)\n",
              "            (intermediate_act_fn): GELUActivation()\n",
              "          )\n",
              "          (output): RobertaOutput(\n",
              "            (dense): Linear(in_features=3072, out_features=768, bias=True)\n",
              "            (LayerNorm): LayerNorm((768,), eps=1e-05, elementwise_affine=True)\n",
              "            (dropout): Dropout(p=0.1, inplace=False)\n",
              "          )\n",
              "        )\n",
              "        (6): RobertaLayer(\n",
              "          (attention): RobertaAttention(\n",
              "            (self): RobertaSelfAttention(\n",
              "              (query): Linear(in_features=768, out_features=768, bias=True)\n",
              "              (key): Linear(in_features=768, out_features=768, bias=True)\n",
              "              (value): Linear(in_features=768, out_features=768, bias=True)\n",
              "              (dropout): Dropout(p=0.1, inplace=False)\n",
              "            )\n",
              "            (output): RobertaSelfOutput(\n",
              "              (dense): Linear(in_features=768, out_features=768, bias=True)\n",
              "              (LayerNorm): LayerNorm((768,), eps=1e-05, elementwise_affine=True)\n",
              "              (dropout): Dropout(p=0.1, inplace=False)\n",
              "            )\n",
              "          )\n",
              "          (intermediate): RobertaIntermediate(\n",
              "            (dense): Linear(in_features=768, out_features=3072, bias=True)\n",
              "            (intermediate_act_fn): GELUActivation()\n",
              "          )\n",
              "          (output): RobertaOutput(\n",
              "            (dense): Linear(in_features=3072, out_features=768, bias=True)\n",
              "            (LayerNorm): LayerNorm((768,), eps=1e-05, elementwise_affine=True)\n",
              "            (dropout): Dropout(p=0.1, inplace=False)\n",
              "          )\n",
              "        )\n",
              "        (7): RobertaLayer(\n",
              "          (attention): RobertaAttention(\n",
              "            (self): RobertaSelfAttention(\n",
              "              (query): Linear(in_features=768, out_features=768, bias=True)\n",
              "              (key): Linear(in_features=768, out_features=768, bias=True)\n",
              "              (value): Linear(in_features=768, out_features=768, bias=True)\n",
              "              (dropout): Dropout(p=0.1, inplace=False)\n",
              "            )\n",
              "            (output): RobertaSelfOutput(\n",
              "              (dense): Linear(in_features=768, out_features=768, bias=True)\n",
              "              (LayerNorm): LayerNorm((768,), eps=1e-05, elementwise_affine=True)\n",
              "              (dropout): Dropout(p=0.1, inplace=False)\n",
              "            )\n",
              "          )\n",
              "          (intermediate): RobertaIntermediate(\n",
              "            (dense): Linear(in_features=768, out_features=3072, bias=True)\n",
              "            (intermediate_act_fn): GELUActivation()\n",
              "          )\n",
              "          (output): RobertaOutput(\n",
              "            (dense): Linear(in_features=3072, out_features=768, bias=True)\n",
              "            (LayerNorm): LayerNorm((768,), eps=1e-05, elementwise_affine=True)\n",
              "            (dropout): Dropout(p=0.1, inplace=False)\n",
              "          )\n",
              "        )\n",
              "        (8): RobertaLayer(\n",
              "          (attention): RobertaAttention(\n",
              "            (self): RobertaSelfAttention(\n",
              "              (query): Linear(in_features=768, out_features=768, bias=True)\n",
              "              (key): Linear(in_features=768, out_features=768, bias=True)\n",
              "              (value): Linear(in_features=768, out_features=768, bias=True)\n",
              "              (dropout): Dropout(p=0.1, inplace=False)\n",
              "            )\n",
              "            (output): RobertaSelfOutput(\n",
              "              (dense): Linear(in_features=768, out_features=768, bias=True)\n",
              "              (LayerNorm): LayerNorm((768,), eps=1e-05, elementwise_affine=True)\n",
              "              (dropout): Dropout(p=0.1, inplace=False)\n",
              "            )\n",
              "          )\n",
              "          (intermediate): RobertaIntermediate(\n",
              "            (dense): Linear(in_features=768, out_features=3072, bias=True)\n",
              "            (intermediate_act_fn): GELUActivation()\n",
              "          )\n",
              "          (output): RobertaOutput(\n",
              "            (dense): Linear(in_features=3072, out_features=768, bias=True)\n",
              "            (LayerNorm): LayerNorm((768,), eps=1e-05, elementwise_affine=True)\n",
              "            (dropout): Dropout(p=0.1, inplace=False)\n",
              "          )\n",
              "        )\n",
              "        (9): RobertaLayer(\n",
              "          (attention): RobertaAttention(\n",
              "            (self): RobertaSelfAttention(\n",
              "              (query): Linear(in_features=768, out_features=768, bias=True)\n",
              "              (key): Linear(in_features=768, out_features=768, bias=True)\n",
              "              (value): Linear(in_features=768, out_features=768, bias=True)\n",
              "              (dropout): Dropout(p=0.1, inplace=False)\n",
              "            )\n",
              "            (output): RobertaSelfOutput(\n",
              "              (dense): Linear(in_features=768, out_features=768, bias=True)\n",
              "              (LayerNorm): LayerNorm((768,), eps=1e-05, elementwise_affine=True)\n",
              "              (dropout): Dropout(p=0.1, inplace=False)\n",
              "            )\n",
              "          )\n",
              "          (intermediate): RobertaIntermediate(\n",
              "            (dense): Linear(in_features=768, out_features=3072, bias=True)\n",
              "            (intermediate_act_fn): GELUActivation()\n",
              "          )\n",
              "          (output): RobertaOutput(\n",
              "            (dense): Linear(in_features=3072, out_features=768, bias=True)\n",
              "            (LayerNorm): LayerNorm((768,), eps=1e-05, elementwise_affine=True)\n",
              "            (dropout): Dropout(p=0.1, inplace=False)\n",
              "          )\n",
              "        )\n",
              "        (10): RobertaLayer(\n",
              "          (attention): RobertaAttention(\n",
              "            (self): RobertaSelfAttention(\n",
              "              (query): Linear(in_features=768, out_features=768, bias=True)\n",
              "              (key): Linear(in_features=768, out_features=768, bias=True)\n",
              "              (value): Linear(in_features=768, out_features=768, bias=True)\n",
              "              (dropout): Dropout(p=0.1, inplace=False)\n",
              "            )\n",
              "            (output): RobertaSelfOutput(\n",
              "              (dense): Linear(in_features=768, out_features=768, bias=True)\n",
              "              (LayerNorm): LayerNorm((768,), eps=1e-05, elementwise_affine=True)\n",
              "              (dropout): Dropout(p=0.1, inplace=False)\n",
              "            )\n",
              "          )\n",
              "          (intermediate): RobertaIntermediate(\n",
              "            (dense): Linear(in_features=768, out_features=3072, bias=True)\n",
              "            (intermediate_act_fn): GELUActivation()\n",
              "          )\n",
              "          (output): RobertaOutput(\n",
              "            (dense): Linear(in_features=3072, out_features=768, bias=True)\n",
              "            (LayerNorm): LayerNorm((768,), eps=1e-05, elementwise_affine=True)\n",
              "            (dropout): Dropout(p=0.1, inplace=False)\n",
              "          )\n",
              "        )\n",
              "        (11): RobertaLayer(\n",
              "          (attention): RobertaAttention(\n",
              "            (self): RobertaSelfAttention(\n",
              "              (query): Linear(in_features=768, out_features=768, bias=True)\n",
              "              (key): Linear(in_features=768, out_features=768, bias=True)\n",
              "              (value): Linear(in_features=768, out_features=768, bias=True)\n",
              "              (dropout): Dropout(p=0.1, inplace=False)\n",
              "            )\n",
              "            (output): RobertaSelfOutput(\n",
              "              (dense): Linear(in_features=768, out_features=768, bias=True)\n",
              "              (LayerNorm): LayerNorm((768,), eps=1e-05, elementwise_affine=True)\n",
              "              (dropout): Dropout(p=0.1, inplace=False)\n",
              "            )\n",
              "          )\n",
              "          (intermediate): RobertaIntermediate(\n",
              "            (dense): Linear(in_features=768, out_features=3072, bias=True)\n",
              "            (intermediate_act_fn): GELUActivation()\n",
              "          )\n",
              "          (output): RobertaOutput(\n",
              "            (dense): Linear(in_features=3072, out_features=768, bias=True)\n",
              "            (LayerNorm): LayerNorm((768,), eps=1e-05, elementwise_affine=True)\n",
              "            (dropout): Dropout(p=0.1, inplace=False)\n",
              "          )\n",
              "        )\n",
              "      )\n",
              "    )\n",
              "    (pooler): RobertaPooler(\n",
              "      (dense): Linear(in_features=768, out_features=768, bias=True)\n",
              "      (activation): Tanh()\n",
              "    )\n",
              "  )\n",
              "  (d1): Dropout(p=0.3, inplace=False)\n",
              "  (l1): Linear(in_features=768, out_features=64, bias=True)\n",
              "  (bn1): LayerNorm((64,), eps=1e-05, elementwise_affine=True)\n",
              "  (d2): Dropout(p=0.3, inplace=False)\n",
              "  (l2): Linear(in_features=64, out_features=5, bias=True)\n",
              ")"
            ]
          },
          "metadata": {},
          "execution_count": 20
        }
      ]
    },
    {
      "cell_type": "markdown",
      "source": [
        "# Testing the model"
      ],
      "metadata": {
        "id": "PrXR5bHkfv8Y"
      }
    },
    {
      "cell_type": "code",
      "source": [
        "@timebudget\n",
        "def test(model):\n",
        "\n",
        "    y_test = []\n",
        "    y_pred = []\n",
        "\n",
        "    correct = 0\n",
        "    total = 0\n",
        "    for i, (ids, attention_mask, labels) in enumerate(testing_loader):\n",
        "        if torch.cuda.is_available():\n",
        "            ids = ids.cuda()\n",
        "            attention_mask = attention_mask.cuda()\n",
        "            labels = labels.cuda()\n",
        "        \n",
        "        output = model.forward(ids,attention_mask=attention_mask)\n",
        "\n",
        "        _, predicted = torch.max(output, 1)\n",
        "        total += labels.size(0)\n",
        "        correct += (predicted == labels).sum().item()\n",
        "        accuracy = 100.00 * correct / total\n",
        "\n",
        "        y_test.extend(labels.tolist())\n",
        "        y_pred.extend(predicted.tolist())\n",
        "\n",
        "        if i%100 == 0:      \n",
        "            print('Iteration: {}. Accuracy: {}%'.format(i, accuracy))\n",
        "\n",
        "\n",
        "    accuracy = 100.00 * correct / total\n",
        "    print('Final Accuracy: ', accuracy)\n",
        "    print('F1 score macro: ', f1_score(y_test, y_pred, average='macro'))\n",
        "    print('F1 score micro: ', f1_score(y_test, y_pred, average='micro'))"
      ],
      "metadata": {
        "id": "e_HAScACtXOC"
      },
      "execution_count": null,
      "outputs": []
    },
    {
      "cell_type": "code",
      "source": [
        "#Testing\n",
        "test(model)"
      ],
      "metadata": {
        "id": "QrdWIfJDvQEZ",
        "colab": {
          "base_uri": "https://localhost:8080/"
        },
        "outputId": "a1bd3ec1-3f7f-4005-9400-d478ae108f0b"
      },
      "execution_count": null,
      "outputs": [
        {
          "output_type": "stream",
          "name": "stdout",
          "text": [
            "Iteration: 0. Accuracy: 37.5%\n",
            "Iteration: 100. Accuracy: 50.742574257425744%\n",
            "Iteration: 200. Accuracy: 51.92786069651741%\n",
            "Final Accuracy:  51.90045248868778\n",
            "F1 score macro:  0.5021061884643802\n",
            "F1 score micro:  0.5190045248868779\n",
            "test took 69.511sec\n"
          ]
        }
      ]
    }
  ]
}