{
  "nbformat": 4,
  "nbformat_minor": 0,
  "metadata": {
    "colab": {
      "provenance": []
    },
    "kernelspec": {
      "name": "python3",
      "display_name": "Python 3"
    },
    "language_info": {
      "name": "python"
    }
  },
  "cells": [
    {
      "cell_type": "markdown",
      "source": [
        "k-Nearest Neighbors(KNN)"
      ],
      "metadata": {
        "id": "QTZWNp9lRGCY"
      }
    },
    {
      "cell_type": "code",
      "source": [
        "#calculating the accuracy of the model with different values of k\n",
        "from sklearn import metrics\n",
        "\n",
        "acc_test_1 = []\n",
        "for i in range(1,1000,10):\n",
        "    knn = KNeighborsClassifier(n_neighbors = i).fit(train_embeddings, train_labels)\n",
        "    test_predictions = knn.predict(test_embeddings)\n",
        "    acc_test_1.append(accuracy_score(test_labels, test_predictions))"
      ],
      "metadata": {
        "id": "vsxQccYzSf7K"
      },
      "execution_count": null,
      "outputs": []
    },
    {
      "cell_type": "code",
      "source": [
        "#generate a graph Number of Neighbors vs Accuracy\n",
        "import matplotlib.pyplot as plt\n",
        "loc = np.arange(1,1000,step=50)\n",
        "plt.figure(figsize = (15, 10))\n",
        "plt.plot(range(1,1000,10), acc_test_1)\n",
        "plt.xticks(loc)\n",
        "plt.xlabel('Number of Neighbors ')\n",
        "plt.ylabel('Accuracy')\n",
        "plt.show()"
      ],
      "metadata": {
        "id": "_d8SDoVXgzYu"
      },
      "execution_count": null,
      "outputs": []
    },
    {
      "cell_type": "markdown",
      "source": [
        "Hyperparameter Tuning"
      ],
      "metadata": {
        "id": "TCXdm-ZScPVJ"
      }
    },
    {
      "cell_type": "code",
      "source": [
        "#to discover the best k to use, hyperparameter tuning method using a validation dataset is a good choice"
      ],
      "metadata": {
        "id": "sBy92BU_dIX_"
      },
      "execution_count": null,
      "outputs": []
    },
    {
      "cell_type": "code",
      "source": [
        "#generate a liste that will be used as values of k\n",
        "from sklearn.model_selection import GridSearchCV\n",
        "from sklearn.metrics import f1_score\n",
        "\n",
        "list_n_neighbors = []\n",
        "for i in range(50,1001,50):\n",
        "  list_n_neighbors.append(i)"
      ],
      "metadata": {
        "id": "z5kK-m0BPnUb"
      },
      "execution_count": null,
      "outputs": []
    },
    {
      "cell_type": "code",
      "source": [
        "#defining the parameters to be tested in KNN model\n",
        "grid_params = { 'n_neighbors' : list_n_neighbors,\n",
        "               'weights' : ['uniform','distance'],\n",
        "               'metric' : ['minkowski','euclidean','manhattan']}\n",
        "\n",
        "gs = GridSearchCV(KNeighborsClassifier(), grid_params, verbose = 1, cv=3, n_jobs = -1)               "
      ],
      "metadata": {
        "id": "eXZLQEo9LlQD"
      },
      "execution_count": null,
      "outputs": []
    },
    {
      "cell_type": "code",
      "source": [
        "#testing several values of k between 50 and 1000\n",
        "g_res = gs.fit(train_embeddings, train_labels)\n",
        "best_score = g_res.best_score_\n",
        "print(best_score)"
      ],
      "metadata": {
        "id": "ydf6LH_og4eJ"
      },
      "execution_count": null,
      "outputs": []
    },
    {
      "cell_type": "code",
      "source": [
        "#getting the best parameters for KNN model\n",
        "best_params = g_res.best_params_\n",
        "print(best_params)"
      ],
      "metadata": {
        "id": "XFj0lWEfg8uN"
      },
      "execution_count": null,
      "outputs": []
    },
    {
      "cell_type": "code",
      "source": [
        "#using best params in the KNN model\n",
        "knn = KNeighborsClassifier(n_neighbors = g_res.best_params_[\"n_neighbors\"], weights = g_res.best_params_[\"weights\"],metric = g_res.best_params_[\"metric\"])\n",
        "knn.fit(train_embeddings, train_labels)"
      ],
      "metadata": {
        "id": "7_Xrx-mKhAZM"
      },
      "execution_count": null,
      "outputs": []
    },
    {
      "cell_type": "code",
      "source": [
        "#dev and test accuracies\n",
        "dev_predictions = knn.predict(validation_embeddings)\n",
        "acc_dev = accuracy_score(dev_labels, dev_predictions)\n",
        "f1_dev_macro = f1_score(dev_labels, dev_predictions, average=\"macro\")\n",
        "f1_dev_micro = f1_score(dev_labels, dev_predictions, average=\"micro\")\n",
        "test_predictions = knn.predict(test_embeddings)\n",
        "acc_test = accuracy_score(test_labels, test_predictions)\n",
        "f1_test_macro = f1_score(test_labels, test_predictions, average=\"macro\")\n",
        "f1_test_micro = f1_score(test_labels, test_predictions, average=\"micro\")\n",
        "\n",
        "print('Dev acc: ', acc_dev)\n",
        "print('Test acc: ', acc_test)\n",
        "print('f1 dev macro: ', f1_dev_macro)\n",
        "print('f1 dev micro: ', f1_dev_micro)\n",
        "print('f1 test macro: ', f1_test_macro)\n",
        "print('f1 test micro: ', f1_test_micro)"
      ],
      "metadata": {
        "id": "J-h2hx7GhGZj"
      },
      "execution_count": null,
      "outputs": []
    }
  ]
}