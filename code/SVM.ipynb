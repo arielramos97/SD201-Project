{
  "nbformat": 4,
  "nbformat_minor": 0,
  "metadata": {
    "colab": {
      "provenance": []
    },
    "kernelspec": {
      "name": "python3",
      "display_name": "Python 3"
    },
    "language_info": {
      "name": "python"
    }
  },
  "cells": [
    {
      "cell_type": "markdown",
      "source": [
        "## Loading libraries and Data"
      ],
      "metadata": {
        "id": "j6IkzTuRCpOo"
      }
    },
    {
      "cell_type": "code",
      "execution_count": null,
      "metadata": {
        "colab": {
          "base_uri": "https://localhost:8080/"
        },
        "id": "__myLnbHy3Ep",
        "outputId": "aaa56335-a750-4e5b-f4aa-83311a4c492b"
      },
      "outputs": [
        {
          "output_type": "stream",
          "name": "stderr",
          "text": [
            "[nltk_data] Downloading package stopwords to /root/nltk_data...\n",
            "[nltk_data]   Unzipping corpora/stopwords.zip.\n",
            "[nltk_data] Downloading package wordnet to /root/nltk_data...\n",
            "[nltk_data] Downloading package omw-1.4 to /root/nltk_data...\n"
          ]
        }
      ],
      "source": [
        "import multiprocessing\n",
        "import gensim.models\n",
        "from gensim.models import Word2Vec\n",
        "from gensim.models import KeyedVectors\n",
        "\n",
        "import pandas as pd\n",
        "from nltk.stem import WordNetLemmatizer\n",
        "import nltk\n",
        "nltk.download('stopwords')\n",
        "nltk.download('wordnet')\n",
        "nltk.download('omw-1.4')\n",
        "from nltk.corpus import stopwords\n",
        "import re\n",
        "import numpy as np"
      ]
    },
    {
      "cell_type": "code",
      "source": [
        "#Load dataset - SST5\n",
        "train_dataset = pd.read_csv('./train.txt', sep=\"\\t\", header=None, names=[\"label\", \"data\"])\n",
        "validation_dataset = pd.read_csv('./dev.txt', sep=\"\\t\", header=None, names=[\"label\", \"data\"])\n",
        "test_dataset = pd.read_csv('./test.txt', sep=\"\\t\", header=None, names=[\"label\", \"data\"])"
      ],
      "metadata": {
        "id": "LMrnBc7CzzqH"
      },
      "execution_count": null,
      "outputs": []
    },
    {
      "cell_type": "code",
      "source": [
        "#Get the number of classes\n",
        "n_classes = train_dataset['label'].nunique()\n",
        "print('N classes: ', n_classes)"
      ],
      "metadata": {
        "colab": {
          "base_uri": "https://localhost:8080/"
        },
        "id": "Vq4kaAH41Kw8",
        "outputId": "82c58668-64ea-4909-e7c6-b9619be8f122"
      },
      "execution_count": null,
      "outputs": [
        {
          "output_type": "stream",
          "name": "stdout",
          "text": [
            "N classes:  5\n"
          ]
        }
      ]
    },
    {
      "cell_type": "code",
      "source": [
        "print(train_dataset['label'].value_counts())\n",
        "print(len(train_dataset['label']))"
      ],
      "metadata": {
        "colab": {
          "base_uri": "https://localhost:8080/"
        },
        "id": "XwuZN0v-ErzR",
        "outputId": "3a06ac69-267b-4579-fbbe-889ccf4e3ad7"
      },
      "execution_count": null,
      "outputs": [
        {
          "output_type": "stream",
          "name": "stdout",
          "text": [
            "4    2322\n",
            "2    2218\n",
            "3    1624\n",
            "5    1288\n",
            "1    1092\n",
            "Name: label, dtype: int64\n",
            "8544\n"
          ]
        }
      ]
    },
    {
      "cell_type": "markdown",
      "source": [
        "## Visualization"
      ],
      "metadata": {
        "id": "AdtrQ-VICk7D"
      }
    },
    {
      "cell_type": "code",
      "source": [
        "train_dataset.head()"
      ],
      "metadata": {
        "colab": {
          "base_uri": "https://localhost:8080/",
          "height": 206
        },
        "id": "jhl7wD2eDvWw",
        "outputId": "056af9a3-31f0-44a7-8d40-e549bd441165"
      },
      "execution_count": null,
      "outputs": [
        {
          "output_type": "execute_result",
          "data": {
            "text/plain": [
              "   label                                               data\n",
              "0      4  The Rock is destined to be the 21st Century 's...\n",
              "1      5  The gorgeously elaborate continuation of `` Th...\n",
              "2      4  Singer/composer Bryan Adams contributes a slew...\n",
              "3      3  You 'd think by now America would have had eno...\n",
              "4      4               Yet the act is still charming here ."
            ],
            "text/html": [
              "\n",
              "  <div id=\"df-25171819-c92b-46e3-91fb-63272a42f319\">\n",
              "    <div class=\"colab-df-container\">\n",
              "      <div>\n",
              "<style scoped>\n",
              "    .dataframe tbody tr th:only-of-type {\n",
              "        vertical-align: middle;\n",
              "    }\n",
              "\n",
              "    .dataframe tbody tr th {\n",
              "        vertical-align: top;\n",
              "    }\n",
              "\n",
              "    .dataframe thead th {\n",
              "        text-align: right;\n",
              "    }\n",
              "</style>\n",
              "<table border=\"1\" class=\"dataframe\">\n",
              "  <thead>\n",
              "    <tr style=\"text-align: right;\">\n",
              "      <th></th>\n",
              "      <th>label</th>\n",
              "      <th>data</th>\n",
              "    </tr>\n",
              "  </thead>\n",
              "  <tbody>\n",
              "    <tr>\n",
              "      <th>0</th>\n",
              "      <td>4</td>\n",
              "      <td>The Rock is destined to be the 21st Century 's...</td>\n",
              "    </tr>\n",
              "    <tr>\n",
              "      <th>1</th>\n",
              "      <td>5</td>\n",
              "      <td>The gorgeously elaborate continuation of `` Th...</td>\n",
              "    </tr>\n",
              "    <tr>\n",
              "      <th>2</th>\n",
              "      <td>4</td>\n",
              "      <td>Singer/composer Bryan Adams contributes a slew...</td>\n",
              "    </tr>\n",
              "    <tr>\n",
              "      <th>3</th>\n",
              "      <td>3</td>\n",
              "      <td>You 'd think by now America would have had eno...</td>\n",
              "    </tr>\n",
              "    <tr>\n",
              "      <th>4</th>\n",
              "      <td>4</td>\n",
              "      <td>Yet the act is still charming here .</td>\n",
              "    </tr>\n",
              "  </tbody>\n",
              "</table>\n",
              "</div>\n",
              "      <button class=\"colab-df-convert\" onclick=\"convertToInteractive('df-25171819-c92b-46e3-91fb-63272a42f319')\"\n",
              "              title=\"Convert this dataframe to an interactive table.\"\n",
              "              style=\"display:none;\">\n",
              "        \n",
              "  <svg xmlns=\"http://www.w3.org/2000/svg\" height=\"24px\"viewBox=\"0 0 24 24\"\n",
              "       width=\"24px\">\n",
              "    <path d=\"M0 0h24v24H0V0z\" fill=\"none\"/>\n",
              "    <path d=\"M18.56 5.44l.94 2.06.94-2.06 2.06-.94-2.06-.94-.94-2.06-.94 2.06-2.06.94zm-11 1L8.5 8.5l.94-2.06 2.06-.94-2.06-.94L8.5 2.5l-.94 2.06-2.06.94zm10 10l.94 2.06.94-2.06 2.06-.94-2.06-.94-.94-2.06-.94 2.06-2.06.94z\"/><path d=\"M17.41 7.96l-1.37-1.37c-.4-.4-.92-.59-1.43-.59-.52 0-1.04.2-1.43.59L10.3 9.45l-7.72 7.72c-.78.78-.78 2.05 0 2.83L4 21.41c.39.39.9.59 1.41.59.51 0 1.02-.2 1.41-.59l7.78-7.78 2.81-2.81c.8-.78.8-2.07 0-2.86zM5.41 20L4 18.59l7.72-7.72 1.47 1.35L5.41 20z\"/>\n",
              "  </svg>\n",
              "      </button>\n",
              "      \n",
              "  <style>\n",
              "    .colab-df-container {\n",
              "      display:flex;\n",
              "      flex-wrap:wrap;\n",
              "      gap: 12px;\n",
              "    }\n",
              "\n",
              "    .colab-df-convert {\n",
              "      background-color: #E8F0FE;\n",
              "      border: none;\n",
              "      border-radius: 50%;\n",
              "      cursor: pointer;\n",
              "      display: none;\n",
              "      fill: #1967D2;\n",
              "      height: 32px;\n",
              "      padding: 0 0 0 0;\n",
              "      width: 32px;\n",
              "    }\n",
              "\n",
              "    .colab-df-convert:hover {\n",
              "      background-color: #E2EBFA;\n",
              "      box-shadow: 0px 1px 2px rgba(60, 64, 67, 0.3), 0px 1px 3px 1px rgba(60, 64, 67, 0.15);\n",
              "      fill: #174EA6;\n",
              "    }\n",
              "\n",
              "    [theme=dark] .colab-df-convert {\n",
              "      background-color: #3B4455;\n",
              "      fill: #D2E3FC;\n",
              "    }\n",
              "\n",
              "    [theme=dark] .colab-df-convert:hover {\n",
              "      background-color: #434B5C;\n",
              "      box-shadow: 0px 1px 3px 1px rgba(0, 0, 0, 0.15);\n",
              "      filter: drop-shadow(0px 1px 2px rgba(0, 0, 0, 0.3));\n",
              "      fill: #FFFFFF;\n",
              "    }\n",
              "  </style>\n",
              "\n",
              "      <script>\n",
              "        const buttonEl =\n",
              "          document.querySelector('#df-25171819-c92b-46e3-91fb-63272a42f319 button.colab-df-convert');\n",
              "        buttonEl.style.display =\n",
              "          google.colab.kernel.accessAllowed ? 'block' : 'none';\n",
              "\n",
              "        async function convertToInteractive(key) {\n",
              "          const element = document.querySelector('#df-25171819-c92b-46e3-91fb-63272a42f319');\n",
              "          const dataTable =\n",
              "            await google.colab.kernel.invokeFunction('convertToInteractive',\n",
              "                                                     [key], {});\n",
              "          if (!dataTable) return;\n",
              "\n",
              "          const docLinkHtml = 'Like what you see? Visit the ' +\n",
              "            '<a target=\"_blank\" href=https://colab.research.google.com/notebooks/data_table.ipynb>data table notebook</a>'\n",
              "            + ' to learn more about interactive tables.';\n",
              "          element.innerHTML = '';\n",
              "          dataTable['output_type'] = 'display_data';\n",
              "          await google.colab.output.renderOutput(dataTable, element);\n",
              "          const docLink = document.createElement('div');\n",
              "          docLink.innerHTML = docLinkHtml;\n",
              "          element.appendChild(docLink);\n",
              "        }\n",
              "      </script>\n",
              "    </div>\n",
              "  </div>\n",
              "  "
            ]
          },
          "metadata": {},
          "execution_count": 6
        }
      ]
    },
    {
      "cell_type": "code",
      "source": [],
      "metadata": {
        "id": "DUtTVWplEUcZ"
      },
      "execution_count": null,
      "outputs": []
    },
    {
      "cell_type": "code",
      "source": [
        "import matplotlib.pyplot as plt\n",
        "train_l =train_dataset['label']\n",
        "validation_l =validation_dataset['label']\n",
        "test_l =test_dataset['label']\n",
        "data_l = pd.concat([train_l, validation_l,test_l])\n",
        "index, counts = np.unique(\n",
        "    data_l.to_numpy(),\n",
        "    return_counts=True\n",
        "    )\n",
        "suma = pd.Series(counts,  index)\n",
        "myexplode = [0.1, 0.1, 0.1, 0.1, 0.1]\n",
        "f = plt.figure()\n",
        "f.set_figwidth(16)\n",
        "f.set_figheight(9)\n",
        "suma.plot(kind='pie', labels =[\"So negative(--)\",\"Negative(-)\",\"Neutral(0)\",\"Positive(+)\",\"So Positive(++)\"],autopct='%.2f', explode = myexplode, title = \"Distribution of sentiments in The whole DataSet\")\n",
        "plt.show()"
      ],
      "metadata": {
        "colab": {
          "base_uri": "https://localhost:8080/",
          "height": 536
        },
        "id": "pBt-MoICKTp-",
        "outputId": "bf8efa24-0807-4a15-ec85-4e856a5ea46b"
      },
      "execution_count": null,
      "outputs": [
        {
          "output_type": "display_data",
          "data": {
            "text/plain": [
              "<Figure size 1152x648 with 1 Axes>"
            ],
            "image/png": "[encoded data removed]"
          },
          "metadata": {}
        }
      ]
    },
    {
      "cell_type": "code",
      "source": [
        "data_l.plot(kind='hist',subplots=True,sharex=True,sharey=True,rwidth=1,figsize=(8,6),color='green',title='Labels histogram')"
      ],
      "metadata": {
        "colab": {
          "base_uri": "https://localhost:8080/",
          "height": 452
        },
        "id": "ACRnecgPH8iQ",
        "outputId": "a6171c04-aa73-4dca-df2e-d3c42e642eee"
      },
      "execution_count": null,
      "outputs": [
        {
          "output_type": "execute_result",
          "data": {
            "text/plain": [
              "array([<matplotlib.axes._subplots.AxesSubplot object at 0x7f27aaf3c820>],\n",
              "      dtype=object)"
            ]
          },
          "metadata": {},
          "execution_count": 8
        },
        {
          "output_type": "display_data",
          "data": {
            "text/plain": [
              "<Figure size 576x432 with 1 Axes>"
            ],
            "image/png": "[encoded data removed]"
          },
          "metadata": {
            "needs_background": "light"
          }
        }
      ]
    },
    {
      "cell_type": "code",
      "source": [
        "print(train_dataset.isnull().sum())\n",
        "print(validation_dataset.isnull().sum())\n",
        "print(test_dataset.isnull().sum())"
      ],
      "metadata": {
        "colab": {
          "base_uri": "https://localhost:8080/"
        },
        "id": "y52-Tas6Ply_",
        "outputId": "d2dd9551-9020-4ac5-c7e9-4a6d1a934e02"
      },
      "execution_count": null,
      "outputs": [
        {
          "output_type": "stream",
          "name": "stdout",
          "text": [
            "label    0\n",
            "data     0\n",
            "dtype: int64\n",
            "label    0\n",
            "data     0\n",
            "dtype: int64\n",
            "label    0\n",
            "data     0\n",
            "dtype: int64\n"
          ]
        }
      ]
    },
    {
      "cell_type": "code",
      "source": [
        "f = plt.figure()\n",
        "f.set_figwidth(16)\n",
        "f.set_figheight(9)\n",
        "train_dataset['label'].value_counts().plot(kind='pie', labels =  [\"Positive(+)\",\"Negative(-)\",\"Neutral(0)\",\"So Positive(++)\",\"So Negative(--)\"],autopct='%.2f', explode = myexplode, title = \"Distribution of sentiments in Train Data\")\n",
        "plt.show()"
      ],
      "metadata": {
        "colab": {
          "base_uri": "https://localhost:8080/",
          "height": 536
        },
        "id": "g0rl5pcvDlds",
        "outputId": "eb8758b9-ebe6-4278-edad-34176da33cfa"
      },
      "execution_count": null,
      "outputs": [
        {
          "output_type": "display_data",
          "data": {
            "text/plain": [
              "<Figure size 1152x648 with 1 Axes>"
            ],
            "image/png": "[encoded data removed]"
          },
          "metadata": {}
        }
      ]
    },
    {
      "cell_type": "code",
      "source": [
        "balanced_train_dataset = train_dataset.groupby('label')\n",
        "balanced_train_dataset = balanced_train_dataset.apply(lambda x: x.sample(balanced_train_dataset.size().min()).reset_index(drop=True))\n",
        "balanced_train_dataset['label'].value_counts()\n",
        "f = plt.figure()\n",
        "f.set_figwidth(16)\n",
        "f.set_figheight(9)\n",
        "balanced_train_dataset['label'].value_counts().plot(kind='pie', labels =  [\"So negative(--)\",\"Negative(-)\",\"Neutral(0)\",\"Positive(+)\",\"So Positive(++)\"],autopct='%.2f', explode = myexplode, title = \"Distribution of sentiments in balanced Train Data\")\n",
        "plt.show()"
      ],
      "metadata": {
        "colab": {
          "base_uri": "https://localhost:8080/",
          "height": 536
        },
        "id": "4w5KT225FPBP",
        "outputId": "1a43bc3d-6328-4ead-a9c9-9fa0c048f793"
      },
      "execution_count": null,
      "outputs": [
        {
          "output_type": "display_data",
          "data": {
            "text/plain": [
              "<Figure size 1152x648 with 1 Axes>"
            ],
            "image/png": "[encoded data removed]"
          },
          "metadata": {}
        }
      ]
    },
    {
      "cell_type": "code",
      "source": [
        "train_dataset = balanced_train_dataset"
      ],
      "metadata": {
        "id": "_h23B7DGFqCa"
      },
      "execution_count": null,
      "outputs": []
    },
    {
      "cell_type": "code",
      "source": [
        "#Clean the \n",
        "stop_words = stopwords.words('english')\n",
        "lemmatizer = WordNetLemmatizer()\n",
        "\n",
        "sents = []\n",
        "\n",
        "for review in train_dataset.data:\n",
        "\n",
        "    dummy = [re.sub(r'[^a-zA-Z0-9_-]', '', token) for token in review.split() if token not in stop_words]\n",
        "    dummy = [ s for s in dummy if len(s) > 1]\n",
        "    sents.append(dummy)\n",
        "    continue\n",
        "\n",
        "    cleaned_sentence = [lemmatizer.lemmatize(re.sub(r'[^a-zA-Z0-9_-]', '', token.lower())) for token in review.split() if token not in stop_words]\n",
        "    cleaned_sentence = [ s for s in cleaned_sentence if len(s) > 1]\n",
        "    sents.append(cleaned_sentence)\n",
        "\n",
        "for review in validation_dataset.data:\n",
        "\n",
        "    dummy = [re.sub(r'[^a-zA-Z0-9_-]', '', token) for token in review.split() if token not in stop_words]\n",
        "    dummy = [ s for s in dummy if len(s) > 1]\n",
        "    sents.append(dummy)\n",
        "    continue\n",
        "\n",
        "    cleaned_sentence = [lemmatizer.lemmatize(re.sub(r'[^a-zA-Z0-9_-]', '', token.lower())) for token in review.split() if token not in stop_words]\n",
        "    cleaned_sentence = [ s for s in cleaned_sentence if len(s) > 1]\n",
        "    sents.append(cleaned_sentence)\n",
        "\n",
        "for review in test_dataset.data:\n",
        "\n",
        "    dummy = [re.sub(r'[^a-zA-Z0-9_-]', '', token) for token in review.split() if token not in stop_words]\n",
        "    dummy = [ s for s in dummy if len(s) > 1]\n",
        "    sents.append(dummy)\n",
        "    continue\n",
        "\n",
        "    cleaned_sentence = [lemmatizer.lemmatize(re.sub(r'[^a-zA-Z0-9_-]', '', token.lower())) for token in review.split() if token not in stop_words]\n",
        "    cleaned_sentence = [ s for s in cleaned_sentence if len(s) > 1]\n",
        "    sents.append(cleaned_sentence)\n",
        "\n"
      ],
      "metadata": {
        "id": "YxROM8U41f1M"
      },
      "execution_count": null,
      "outputs": []
    },
    {
      "cell_type": "code",
      "source": [
        "print(len(sents), sents[0])"
      ],
      "metadata": {
        "colab": {
          "base_uri": "https://localhost:8080/"
        },
        "id": "60Kq_FC7-d2h",
        "outputId": "78ba48f2-9b8b-4b1f-e0ea-446b3bc2a8c6"
      },
      "execution_count": null,
      "outputs": [
        {
          "output_type": "stream",
          "name": "stdout",
          "text": [
            "8771 ['so-so', 'made-for-TV', 'something', 'posing', 'real', 'movie']\n"
          ]
        }
      ]
    },
    {
      "cell_type": "code",
      "source": [
        "from gensim.models.phrases import Phrases, Phraser\n",
        "\n",
        "bigram = Phrases(sents, min_count=1, progress_per=1000, threshold = 2)\n",
        "sentences = bigram[sents]\n"
      ],
      "metadata": {
        "colab": {
          "base_uri": "https://localhost:8080/"
        },
        "id": "Hj9myBM56nH4",
        "outputId": "c7af9855-f64b-4127-e39d-63f5aefc90f7"
      },
      "execution_count": null,
      "outputs": [
        {
          "output_type": "stream",
          "name": "stderr",
          "text": [
            "/usr/local/lib/python3.8/dist-packages/gensim/models/phrases.py:598: UserWarning: For a faster implementation, use the gensim.models.phrases.Phraser class\n",
            "  warnings.warn(\"For a faster implementation, use the gensim.models.phrases.Phraser class\")\n"
          ]
        }
      ]
    },
    {
      "cell_type": "code",
      "source": [
        "sentences = sents"
      ],
      "metadata": {
        "id": "siFRyVDzmbaQ"
      },
      "execution_count": null,
      "outputs": []
    },
    {
      "cell_type": "code",
      "source": [
        "cores = multiprocessing.cpu_count()"
      ],
      "metadata": {
        "id": "UUG7z-D5zmR4"
      },
      "execution_count": null,
      "outputs": []
    },
    {
      "cell_type": "code",
      "source": [
        "!wget -O GoogleNews-vectors-negative300.bin.gz -c \"http://vectors.nlpl.eu/repository/11/1.zip\""
      ],
      "metadata": {
        "colab": {
          "base_uri": "https://localhost:8080/"
        },
        "id": "jFVrBK_OHNOt",
        "outputId": "9f5820e7-1600-4c7e-defd-64f6425757f5"
      },
      "execution_count": null,
      "outputs": [
        {
          "output_type": "stream",
          "name": "stdout",
          "text": [
            "--2022-12-01 19:55:16--  http://vectors.nlpl.eu/repository/11/1.zip\n",
            "Resolving vectors.nlpl.eu (vectors.nlpl.eu)... 129.240.189.181\n",
            "Connecting to vectors.nlpl.eu (vectors.nlpl.eu)|129.240.189.181|:80... connected.\n",
            "HTTP request sent, awaiting response... 200 OK\n",
            "Length: 5700887510 (5.3G) [application/zip]\n",
            "Saving to: ‘GoogleNews-vectors-negative300.bin.gz’\n",
            "\n",
            "GoogleNews-vectors- 100%[===================>]   5.31G  27.1MB/s    in 3m 24s  \n",
            "\n",
            "2022-12-01 19:58:40 (26.7 MB/s) - ‘GoogleNews-vectors-negative300.bin.gz’ saved [5700887510/5700887510]\n",
            "\n"
          ]
        }
      ]
    },
    {
      "cell_type": "code",
      "source": [
        "!unzip GoogleNews-vectors-negative300.bin.gz -d GoogleNews.bin.gz"
      ],
      "metadata": {
        "colab": {
          "base_uri": "https://localhost:8080/"
        },
        "id": "Swc2qf9gPt0p",
        "outputId": "efb07594-ec94-4c9d-c208-9621928d38a0"
      },
      "execution_count": null,
      "outputs": [
        {
          "output_type": "stream",
          "name": "stdout",
          "text": [
            "Archive:  GoogleNews-vectors-negative300.bin.gz\n",
            "  inflating: GoogleNews.bin.gz/meta.json  \n",
            "  inflating: GoogleNews.bin.gz/model.bin  \n",
            "  inflating: GoogleNews.bin.gz/model.txt  \n",
            "  inflating: GoogleNews.bin.gz/README  \n"
          ]
        }
      ]
    },
    {
      "cell_type": "code",
      "source": [
        "# w2v_model = Word2Vec(min_count=5,\n",
        "#                      window=4,\n",
        "#                      size=300,\n",
        "#                      sample=6e-5, \n",
        "#                      alpha=0.03, \n",
        "#                      min_alpha=0.0007, \n",
        "#                      negative=20,\n",
        "#                      sg = 1, #For skipgram model\n",
        "#                      workers=cores-1)\n",
        "\n",
        "#Another approach\n",
        "\n",
        "w2v_model = gensim.models.KeyedVectors.load_word2vec_format(\"GoogleNews.bin.gz/model.bin\", binary=True)\n",
        "w2v_model.init_sims(replace=True)"
      ],
      "metadata": {
        "id": "j3SD_jkszhjM"
      },
      "execution_count": null,
      "outputs": []
    },
    {
      "cell_type": "code",
      "source": [
        "#Build model\n",
        "#w2v_model.build_vocab(sentences, progress_per=1000)"
      ],
      "metadata": {
        "id": "MXe7aHaJzlzF"
      },
      "execution_count": null,
      "outputs": []
    },
    {
      "cell_type": "code",
      "source": [
        "#Train model\n",
        "#w2v_model.train(sentences, total_examples=w2v_model.corpus_count, epochs=30, report_delay=1)"
      ],
      "metadata": {
        "id": "87hwtp5E9ZiB"
      },
      "execution_count": null,
      "outputs": []
    },
    {
      "cell_type": "code",
      "source": [
        "# w2v_model.wv.vocab\n",
        "# w2v_model.wv['new']"
      ],
      "metadata": {
        "id": "kvKYSZAw9ioy"
      },
      "execution_count": null,
      "outputs": []
    },
    {
      "cell_type": "code",
      "source": [
        "vocab = [w.split('_')[0]for w in w2v_model.vocab.keys()] \n",
        "# w2v_model.vocab\n",
        "print(vocab[0:10], len(vocab))"
      ],
      "metadata": {
        "colab": {
          "base_uri": "https://localhost:8080/"
        },
        "id": "yAxMw4osWVx-",
        "outputId": "78864d35-1d03-41d2-9512-2263e2bec10a"
      },
      "execution_count": null,
      "outputs": [
        {
          "output_type": "stream",
          "name": "stdout",
          "text": [
            "['</s>', 'in', 'for', 'that', 'is', 'on', 'The', 'with', 'said', 'was'] 2883863\n"
          ]
        }
      ]
    },
    {
      "cell_type": "code",
      "source": [
        "vector_dict = {k.split('_')[0] : w2v_model.syn0norm[w2v_model.vocab[k].index] for k, v in w2v_model.vocab.items()}"
      ],
      "metadata": {
        "colab": {
          "base_uri": "https://localhost:8080/"
        },
        "id": "6QdZdG0HZJSf",
        "outputId": "b4510841-6057-4567-ae20-5ecd693a30fc"
      },
      "execution_count": null,
      "outputs": [
        {
          "output_type": "stream",
          "name": "stderr",
          "text": [
            "<ipython-input-25-cf7da87712dd>:1: DeprecationWarning: Call to deprecated `syn0norm` (Attribute will be removed in 4.0.0, use self.wv.vectors_norm instead).\n",
            "  vector_dict = {k.split('_')[0] : w2v_model.syn0norm[w2v_model.vocab[k].index] for k, v in w2v_model.vocab.items()}\n"
          ]
        }
      ]
    },
    {
      "cell_type": "code",
      "source": [
        "w2v_model.vocab"
      ],
      "metadata": {
        "id": "pLIUJR8kZ0Kr"
      },
      "execution_count": null,
      "outputs": []
    },
    {
      "cell_type": "code",
      "source": [
        "w2v_model.syn0norm[w2v_model.vocab['living_VERB'].index].shape"
      ],
      "metadata": {
        "colab": {
          "base_uri": "https://localhost:8080/"
        },
        "id": "_Q1_NkTCYuxm",
        "outputId": "fb2f3e48-4bd7-4d6b-8c91-127c3570cf1a"
      },
      "execution_count": null,
      "outputs": [
        {
          "output_type": "stream",
          "name": "stderr",
          "text": [
            "<ipython-input-71-341c824846b3>:1: DeprecationWarning: Call to deprecated `syn0norm` (Attribute will be removed in 4.0.0, use self.wv.vectors_norm instead).\n",
            "  w2v_model.syn0norm[w2v_model.vocab['living_VERB'].index].shape\n"
          ]
        },
        {
          "output_type": "execute_result",
          "data": {
            "text/plain": [
              "(300,)"
            ]
          },
          "metadata": {},
          "execution_count": 71
        }
      ]
    },
    {
      "cell_type": "code",
      "source": [
        "len(sents)"
      ],
      "metadata": {
        "colab": {
          "base_uri": "https://localhost:8080/"
        },
        "id": "365RTbgsmvtc",
        "outputId": "200abd5d-8c57-4971-f168-71838ce12da6"
      },
      "execution_count": null,
      "outputs": [
        {
          "output_type": "execute_result",
          "data": {
            "text/plain": [
              "8771"
            ]
          },
          "metadata": {},
          "execution_count": 72
        }
      ]
    },
    {
      "cell_type": "code",
      "source": [
        "#Build numpy vectors for each dataset\n",
        "\n",
        "embeddings = np.zeros((len(train_dataset) + len(validation_dataset) + len(test_dataset), 300))\n",
        "\n",
        "for i, sent in enumerate(sents):\n",
        "# for i, sent in enumerate(sentences):\n",
        "\n",
        "    if i % 100 == 0:\n",
        "        print(i)\n",
        "\n",
        "    review_array = np.zeros((300,))\n",
        "    found = 0\n",
        "    for w in sent:\n",
        "        found +=1\n",
        "        # if w in w2v_model.wv.vocab:\n",
        "        if w in vocab:\n",
        "            # review_array = np.add(review_array, w2v_model.vocab[w])\n",
        "            review_array = np.add(review_array, vector_dict[w])\n",
        "\n",
        "    # if found != 0:\n",
        "    #     embeddings[i] = np.divide(review_array, found) \n",
        "    # else:\n",
        "    #      embeddings[i] = review_array\n",
        "    embeddings[i] = review_array"
      ],
      "metadata": {
        "id": "d_wbAEMG_16H"
      },
      "execution_count": null,
      "outputs": []
    },
    {
      "cell_type": "code",
      "source": [
        "train_embeddings = embeddings[:len(train_dataset), :]\n",
        "validation_embeddings = embeddings[len(train_dataset):(len(train_dataset)+len(validation_dataset)), :]\n",
        "test_embeddings = embeddings[(len(train_dataset)+len(validation_dataset)):]"
      ],
      "metadata": {
        "id": "TBnlXem4C5vX"
      },
      "execution_count": null,
      "outputs": []
    },
    {
      "cell_type": "code",
      "source": [
        "print(train_embeddings.shape)\n",
        "print(validation_embeddings.shape)\n",
        "print(test_embeddings.shape)"
      ],
      "metadata": {
        "colab": {
          "base_uri": "https://localhost:8080/"
        },
        "id": "bMwMe8dwDEHh",
        "outputId": "373780fd-353a-4260-fe57-bb197c0454d9"
      },
      "execution_count": null,
      "outputs": [
        {
          "output_type": "stream",
          "name": "stdout",
          "text": [
            "(5460, 300)\n",
            "(1101, 300)\n",
            "(2210, 300)\n"
          ]
        }
      ]
    },
    {
      "cell_type": "code",
      "source": [
        "train_labels = train_dataset.label.to_numpy() -1 # So it starts from 0 and not 1\n",
        "dev_labels = validation_dataset.label.to_numpy() -1\n",
        "test_labels = test_dataset.label.to_numpy() -1\n"
      ],
      "metadata": {
        "id": "xdCR-9EfGSR4"
      },
      "execution_count": null,
      "outputs": []
    },
    {
      "cell_type": "markdown",
      "source": [
        "## SVM Classifier "
      ],
      "metadata": {
        "id": "U3JfyDxXqhYV"
      }
    },
    {
      "cell_type": "code",
      "source": [
        "# Add some tuning considerations\n",
        "from sklearn.svm import SVC\n",
        "\n",
        "from sklearn.model_selection import GridSearchCV\n",
        "param_grid = {'C': [0.1,1,10], 'gamma': [1,0.1,0.01],'kernel': ['linear','rbf', 'poly']}\n",
        "# Grid Search already run, it takes a long time, about 16 minutes, that's Why is commented \n",
        "#grid = GridSearchCV(SVC(),param_grid,refit=True,verbose=2)\n",
        "#grid.fit(train_embeddings, train_labels)\n",
        "\n",
        "svm = SVC(kernel=\"rbf\",gamma=0.1, C=1.0)\n",
        "svm.fit(train_embeddings, train_labels)"
      ],
      "metadata": {
        "colab": {
          "base_uri": "https://localhost:8080/"
        },
        "id": "BipX8fu8U8Qe",
        "outputId": "9bbe5dd9-0e07-4e68-d95c-1414dd510f89"
      },
      "execution_count": null,
      "outputs": [
        {
          "output_type": "execute_result",
          "data": {
            "text/plain": [
              "SVC(gamma=0.1)"
            ]
          },
          "metadata": {},
          "execution_count": 78
        }
      ]
    },
    {
      "cell_type": "code",
      "source": [
        "#print(grid.best_estimator_)\n",
        "#print(grid.best_params_)"
      ],
      "metadata": {
        "colab": {
          "base_uri": "https://localhost:8080/"
        },
        "id": "QI4MKELRr-BY",
        "outputId": "d0f89b7a-f3ea-4325-a4d6-4d229ed31210"
      },
      "execution_count": null,
      "outputs": [
        {
          "output_type": "stream",
          "name": "stdout",
          "text": [
            "SVC(C=1, gamma=0.1)\n",
            "{'C': 1, 'gamma': 0.1, 'kernel': 'rbf'}\n"
          ]
        }
      ]
    },
    {
      "cell_type": "code",
      "source": [
        "from sklearn.metrics import f1_score, roc_curve, confusion_matrix, classification_report,accuracy_score\n",
        "dev_predictions = svm.predict(validation_embeddings)\n",
        "acc_dev = accuracy_score(dev_labels, dev_predictions)\n",
        "\n",
        "test_predictions = svm.predict(test_embeddings)\n",
        "acc_test = accuracy_score(test_labels, test_predictions)\n",
        "print('Dev acc: ', acc_dev)\n",
        "print('Test acc: ', acc_test)\n",
        "\n",
        "print('Test f1 average micro: ',f1_score(np.array(test_labels), np.array(test_predictions), average=\"micro\"))\n",
        "print('Test f1 average macro: ',f1_score(np.array(test_labels), np.array(test_predictions), average=\"macro\"))\n",
        "\n",
        "confusion = confusion_matrix(test_labels, test_predictions)\n",
        "print('SVM (linear kernel, C=1)\\n',confusion)\n",
        "#print(classification_report(test_labels, test_predictions))\n",
        "#print(classification_report(dev_labels, dev_predictions))"
      ],
      "metadata": {
        "colab": {
          "base_uri": "https://localhost:8080/"
        },
        "id": "xvAcebpVVK3c",
        "outputId": "d2050b22-caac-49b4-d9d1-0e3048fc3140"
      },
      "execution_count": null,
      "outputs": [
        {
          "output_type": "stream",
          "name": "stdout",
          "text": [
            "Dev acc:  0.3941871026339691\n",
            "Test acc:  0.4167420814479638\n",
            "Test f1 average micro:  0.4167420814479638\n",
            "Test f1 average macro:  0.41778788504569453\n",
            "SVM (linear kernel, C=1)\n",
            " [[146  57  40  22  14]\n",
            " [163 200 138  96  36]\n",
            " [ 51  82 124  98  34]\n",
            " [ 30  49  82 221 128]\n",
            " [  9  20  33 107 230]]\n"
          ]
        }
      ]
    },
    {
      "cell_type": "code",
      "source": [
        "import seaborn as sns\n",
        "test_predictions = svm.predict(test_embeddings)\n",
        "confusion_mc = confusion_matrix(test_labels, test_predictions)\n",
        "df_cm = pd.DataFrame(confusion_mc, \n",
        "                     index = [i for i in range(0,5)], columns = [i for i in range(0,5)])\n",
        "\n",
        "plt.figure(figsize=(8,6))\n",
        "sns.heatmap(df_cm, annot=True)\n",
        "plt.title('SVM kernel=rbf \\nAccuracy test:{0:.3f}'.format(accuracy_score(test_labels,test_predictions)))\n",
        "plt.ylabel('True label')\n",
        "plt.xlabel('Predicted label')"
      ],
      "metadata": {
        "colab": {
          "base_uri": "https://localhost:8080/",
          "height": 436
        },
        "id": "zYArmvZG0xFN",
        "outputId": "0b9c5ac8-bc85-4edc-bd9c-e1fa2ccdd77a"
      },
      "execution_count": null,
      "outputs": [
        {
          "output_type": "execute_result",
          "data": {
            "text/plain": [
              "Text(0.5, 33.0, 'Predicted label')"
            ]
          },
          "metadata": {},
          "execution_count": 84
        },
        {
          "output_type": "display_data",
          "data": {
            "text/plain": [
              "<Figure size 576x432 with 2 Axes>"
            ],
            "image/png": "[encoded data removed]"
          },
          "metadata": {
            "needs_background": "light"
          }
        }
      ]
    }
  ]
}